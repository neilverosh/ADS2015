{
 "cells": [
  {
   "cell_type": "markdown",
   "metadata": {},
   "source": [
    "# Session 4. Modelling spatial networks\n",
    "\n",
    "Many real-world networks are embedded into geographical space. For example:\n",
    "- human mobility networks (nodes - locations in space, edge weights - number of people moving between two locations);\n",
    "- aggregated networks of human interactions (nodes - locations in space, edge weights - cumulative communication flux);\n",
    "- social networks, when people are attached to their home locations (nodes - people, edge weights - strength of connections between them or simply existance of such connections in the unweighted case).\n",
    "\n",
    "In this case nodes are given spatial coordinates, while edges, together with their network topology weight $e(a,b)$, can also be assigned their geographical distance $d(a,b)$. We'll refer to such network as \"spatial networks\".\n",
    "\n",
    "It is a common property for many spatial networks to have edge weight decay with distance (connections between more distant objects are weaker). This dependence is often thought as a power-law trend:\n",
    "$$\n",
    "e(a,b)\\sim d(a,b)^{-\\gamma}.\n",
    "$$\n",
    "\n",
    "However often nodes are not equal - for example in case of human mobility networks, where nodes are locations in space, while edges represent number of people moving between them, nodes might be of different size or different density. In this case one could also consider\n",
    "$$\n",
    "e(a,b)\\sim w(a),\\ e(a,b)\\sim w(b),\n",
    "$$\n",
    "or more generally (keeping an idea of the power-law dependence and assuming under-/super-linear scaling of destination attractiveness or origin activity with size): \n",
    "$$\n",
    "e(a,b)\\sim w(a)^\\alpha,\\ e(a,b)\\sim w(b)^\\beta.\n",
    "$$\n",
    "where $w(x)$ is the weight of the node $x$. \n",
    "\n",
    "## Gravity model\n",
    "\n",
    "All together those relations lead to a model\n",
    "$$\n",
    "e(a,b)=k\\cdot w(a) w(b) d(a,b)^{-\\gamma},\n",
    "$$\n",
    "or more generally\n",
    "$$\n",
    "e(a,b)=k\\cdot w(a)^\\alpha w(b)^\\beta d(a,b)^{-\\gamma},\n",
    "$$\n",
    "where $k$ is the global proportionality (normalization) factor\n",
    "$$\n",
    "k=\\frac{\\sum\\limits_{a,b}e(a,b)}{\\sum\\limits_{a,b} w(a)^\\alpha w(b)^\\beta d(a,b)^{-\\gamma}}.\n",
    "$$\n",
    "\n",
    "In case network does not have loop edges to model, the normalization factor is defined as\n",
    "$$\n",
    "k=\\frac{\\sum\\limits_{a\\neq b}e(a,b)}{\\sum\\limits_{a\\neq b} w(a)^\\alpha w(b)^\\beta d(a,b)^{-\\gamma}}.\n",
    "$$\n",
    "\n",
    "Often it is reasonable to assume that $\\alpha=\\beta$ (especially if the network is symmetric, like representing number of people visiting both locations $a$ and $b$ regardless their order or cumulative communication flux between the two locations regardless directionality). \n",
    "\n",
    "This model is called gravity model.\n",
    "\n",
    "## Gravity model with local normalization\n",
    "\n",
    "Alternatively, one can also introduce local normalization, assuming relative scaling of strength of attractiveness of different destinations $b$ for the origin $a$ to be proportional to\n",
    "$$\n",
    "{\\rm attr}_a(b)\\sim w(b)^\\beta d(a,b)^{-\\gamma}.\n",
    "$$\n",
    "Given the known total outgoing strength $T(a)$ for each node $a$, this leads to the model\n",
    "$$\n",
    "e(a,b)=T(a) \\frac{{\\rm attr}_a(b)}{\\sum_c {\\rm attr}_a(c)}\n",
    "$$\n",
    "i.e.\n",
    "$$\n",
    "e(a,b)=T(a) \\frac{w(b)^\\beta d(a,b)^{-\\gamma}}{\\sum_c w(c)^\\beta d(a,c)^{-\\gamma}}.\n",
    "$$\n",
    "In case loop edges are missing in the network one should rather write\n",
    "$$\n",
    "e(a,b)=T(a) \\frac{w(b)^\\beta d(a,b)^{-\\gamma}}{\\sum_{c\\neq a} w(c)^\\beta d(a,c)^{-\\gamma}},\n",
    "$$\n",
    "as the entire outgoing strenth is to be distributed among the possible non-loop edges for $c\\neq a$. \n",
    "\n",
    "## Radiation model\n",
    "\n",
    "Another alternative approach to modelling spatial networks of human mobility and potentially interactions has been suggested in a recent paper [Simini, F., González, M. C., Maritan, A., & Barabási, A. L. (2012). A universal model for mobility and migration patterns. Nature, 484(7392)]. The key idea is that people select a closet destination bettan than the one they have in their location of origin according to a certain attractiveness distribution and the beauty of the model is that it gives a one single paramter-free formulae (just based on the given population distribution, nothing to fit or assume unlike the exponents in the gravity model), no matter what the assumed attractiveness distribution was. The model however also relies on the knowledge of the cumulative outgoing strength of the nodes, just like the gravity model with the local normalization does.\n",
    "\n",
    "The model predicting mobility flux (an edge) $e(a,b)$ between two locations $a,b$ is\n",
    "$$\n",
    "e(a,b)=T(a)\\frac{p(a)p(b)}{\\left(p(a)+s(a,b)\\right)\\left(p(a)+p(b)+s(a,b)\\right)},\n",
    "$$\n",
    "where $p(a)$ denotes the population of the location $a$, while $s(a,b)$ is the total population enclosed in the circle centered in $a$ with the radius equal to $d(a,b)$ (i.e. the total population residing no further from $a$ compared to $b$)."
   ]
  },
  {
   "cell_type": "markdown",
   "metadata": {},
   "source": [
    "## US State2State migration modeling - gravity law\n",
    "\n",
    "First of all read the state2state migration data and build a network based on it"
   ]
  },
  {
   "cell_type": "code",
   "execution_count": 1,
   "metadata": {
    "collapsed": false
   },
   "outputs": [
    {
     "name": "stdout",
     "output_type": "stream",
     "text": [
      "Populating the interactive namespace from numpy and matplotlib\n"
     ]
    }
   ],
   "source": [
    "#add necessary libraries\n",
    "import networkx as nx #library supporting networks\n",
    "import matplotlib.pyplot as plt #plotting\n",
    "import pandas as pd\n",
    "import numpy as np\n",
    "import scipy.stats as stat\n",
    "from scipy import optimize\n",
    "#make sure plots are embedded into the notebook\n",
    "%pylab inline \n",
    "import statsmodels.formula.api as smf"
   ]
  },
  {
   "cell_type": "code",
   "execution_count": 2,
   "metadata": {
    "collapsed": false
   },
   "outputs": [
    {
     "data": {
      "text/html": [
       "<div>\n",
       "<table border=\"1\" class=\"dataframe\">\n",
       "  <thead>\n",
       "    <tr style=\"text-align: right;\">\n",
       "      <th></th>\n",
       "      <th>i</th>\n",
       "      <th>j</th>\n",
       "      <th>a</th>\n",
       "    </tr>\n",
       "  </thead>\n",
       "  <tbody>\n",
       "    <tr>\n",
       "      <th>0</th>\n",
       "      <td>1</td>\n",
       "      <td>1</td>\n",
       "      <td>588293</td>\n",
       "    </tr>\n",
       "    <tr>\n",
       "      <th>1</th>\n",
       "      <td>2</td>\n",
       "      <td>1</td>\n",
       "      <td>93</td>\n",
       "    </tr>\n",
       "    <tr>\n",
       "      <th>2</th>\n",
       "      <td>3</td>\n",
       "      <td>1</td>\n",
       "      <td>833</td>\n",
       "    </tr>\n",
       "    <tr>\n",
       "      <th>3</th>\n",
       "      <td>4</td>\n",
       "      <td>1</td>\n",
       "      <td>691</td>\n",
       "    </tr>\n",
       "    <tr>\n",
       "      <th>4</th>\n",
       "      <td>5</td>\n",
       "      <td>1</td>\n",
       "      <td>2087</td>\n",
       "    </tr>\n",
       "  </tbody>\n",
       "</table>\n",
       "</div>"
      ],
      "text/plain": [
       "   i  j       a\n",
       "0  1  1  588293\n",
       "1  2  1      93\n",
       "2  3  1     833\n",
       "3  4  1     691\n",
       "4  5  1    2087"
      ]
     },
     "execution_count": 2,
     "metadata": {},
     "output_type": "execute_result"
    }
   ],
   "source": [
    "# load migration data (edge list of migration fluxes between states number in alphabetic order)\n",
    "USmigration=pd.read_csv( 'https://serv.cusp.nyu.edu/files/ADS-2015/NetworkAnalysis/lab4/USstates_migration.csv' , header=0 )\n",
    "USmigration.head()"
   ]
  },
  {
   "cell_type": "code",
   "execution_count": 3,
   "metadata": {
    "collapsed": false
   },
   "outputs": [
    {
     "data": {
      "text/html": [
       "<div>\n",
       "<table border=\"1\" class=\"dataframe\">\n",
       "  <thead>\n",
       "    <tr style=\"text-align: right;\">\n",
       "      <th></th>\n",
       "      <th>State</th>\n",
       "      <th>Population</th>\n",
       "    </tr>\n",
       "  </thead>\n",
       "  <tbody>\n",
       "    <tr>\n",
       "      <th>0</th>\n",
       "      <td>1</td>\n",
       "      <td>4745278</td>\n",
       "    </tr>\n",
       "    <tr>\n",
       "      <th>1</th>\n",
       "      <td>2</td>\n",
       "      <td>711962</td>\n",
       "    </tr>\n",
       "    <tr>\n",
       "      <th>2</th>\n",
       "      <td>3</td>\n",
       "      <td>6402301</td>\n",
       "    </tr>\n",
       "    <tr>\n",
       "      <th>3</th>\n",
       "      <td>4</td>\n",
       "      <td>2906632</td>\n",
       "    </tr>\n",
       "    <tr>\n",
       "      <th>4</th>\n",
       "      <td>5</td>\n",
       "      <td>37222678</td>\n",
       "    </tr>\n",
       "  </tbody>\n",
       "</table>\n",
       "</div>"
      ],
      "text/plain": [
       "   State  Population\n",
       "0      1     4745278\n",
       "1      2      711962\n",
       "2      3     6402301\n",
       "3      4     2906632\n",
       "4      5    37222678"
      ]
     },
     "execution_count": 3,
     "metadata": {},
     "output_type": "execute_result"
    }
   ],
   "source": [
    "# load state total population data (states numbered in the same order)\n",
    "state_pop=pd.read_csv( 'https://serv.cusp.nyu.edu/files/ADS-2015/NetworkAnalysis/lab4/USstate_pop.csv' , header=0 )\n",
    "state_pop.head()"
   ]
  },
  {
   "cell_type": "code",
   "execution_count": 4,
   "metadata": {
    "collapsed": false
   },
   "outputs": [
    {
     "data": {
      "text/html": [
       "<div>\n",
       "<table border=\"1\" class=\"dataframe\">\n",
       "  <thead>\n",
       "    <tr style=\"text-align: right;\">\n",
       "      <th></th>\n",
       "      <th>i</th>\n",
       "      <th>j</th>\n",
       "      <th>d</th>\n",
       "    </tr>\n",
       "  </thead>\n",
       "  <tbody>\n",
       "    <tr>\n",
       "      <th>0</th>\n",
       "      <td>2</td>\n",
       "      <td>1</td>\n",
       "      <td>5614.436960</td>\n",
       "    </tr>\n",
       "    <tr>\n",
       "      <th>1</th>\n",
       "      <td>3</td>\n",
       "      <td>1</td>\n",
       "      <td>2495.344624</td>\n",
       "    </tr>\n",
       "    <tr>\n",
       "      <th>2</th>\n",
       "      <td>4</td>\n",
       "      <td>1</td>\n",
       "      <td>573.987494</td>\n",
       "    </tr>\n",
       "    <tr>\n",
       "      <th>3</th>\n",
       "      <td>5</td>\n",
       "      <td>1</td>\n",
       "      <td>3126.573252</td>\n",
       "    </tr>\n",
       "    <tr>\n",
       "      <th>4</th>\n",
       "      <td>6</td>\n",
       "      <td>1</td>\n",
       "      <td>1998.429707</td>\n",
       "    </tr>\n",
       "  </tbody>\n",
       "</table>\n",
       "</div>"
      ],
      "text/plain": [
       "   i  j            d\n",
       "0  2  1  5614.436960\n",
       "1  3  1  2495.344624\n",
       "2  4  1   573.987494\n",
       "3  5  1  3126.573252\n",
       "4  6  1  1998.429707"
      ]
     },
     "execution_count": 4,
     "metadata": {},
     "output_type": "execute_result"
    }
   ],
   "source": [
    "# load distances between states (computed based on the shapefiles)\n",
    "USStates_dist=pd.read_csv( 'https://serv.cusp.nyu.edu/files/ADS-2015/NetworkAnalysis/lab4/USstates_dist.csv' , header=0 )\n",
    "USStates_dist.head()"
   ]
  },
  {
   "cell_type": "code",
   "execution_count": 5,
   "metadata": {
    "collapsed": false
   },
   "outputs": [],
   "source": [
    "#creating a directed weighted graph of US migration adding all the edges\n",
    "USmig=nx.DiGraph()\n",
    "nx.set_edge_attributes(USmig,'weight', 0)\n",
    "for k in USmigration.index:\n",
    "    USmig.add_edge(USmigration.i[k],USmigration.j[k],weight=USmigration.a[k])"
   ]
  },
  {
   "cell_type": "code",
   "execution_count": 6,
   "metadata": {
    "collapsed": false
   },
   "outputs": [],
   "source": [
    "#adding edge distances\n",
    "nx.set_edge_attributes(USmig,'dist', 0)\n",
    "for k in USStates_dist.index:\n",
    "    if not USmig.has_edge(USStates_dist.i[k],USStates_dist.j[k]):\n",
    "        USmig.add_edge(USStates_dist.i[k],USStates_dist.j[k],weight=0)\n",
    "    USmig[USStates_dist.i[k]][USStates_dist.j[k]]['dist']=USStates_dist.d[k]"
   ]
  },
  {
   "cell_type": "markdown",
   "metadata": {},
   "source": [
    "Now try to establish overall dependence of the edge weight on the distance"
   ]
  },
  {
   "cell_type": "code",
   "execution_count": 7,
   "metadata": {
    "collapsed": false
   },
   "outputs": [],
   "source": [
    "#create a dataframe with edge distances and weights\n",
    "data=pd.DataFrame({'d':[],'e':[]})\n",
    "for e in USmig.edges(data=True):\n",
    "    i=data.index.max()\n",
    "    if isnan(i):\n",
    "        i=-1\n",
    "    data.loc[i + 1] = [e[2]['dist'], e[2]['weight']]"
   ]
  },
  {
   "cell_type": "code",
   "execution_count": 8,
   "metadata": {
    "collapsed": false
   },
   "outputs": [
    {
     "data": {
      "text/html": [
       "<div>\n",
       "<table border=\"1\" class=\"dataframe\">\n",
       "  <thead>\n",
       "    <tr style=\"text-align: right;\">\n",
       "      <th></th>\n",
       "      <th>d</th>\n",
       "      <th>e</th>\n",
       "    </tr>\n",
       "  </thead>\n",
       "  <tbody>\n",
       "    <tr>\n",
       "      <th>1</th>\n",
       "      <td>5614.436960</td>\n",
       "      <td>1771</td>\n",
       "    </tr>\n",
       "    <tr>\n",
       "      <th>2</th>\n",
       "      <td>2495.344624</td>\n",
       "      <td>1677</td>\n",
       "    </tr>\n",
       "    <tr>\n",
       "      <th>3</th>\n",
       "      <td>573.987494</td>\n",
       "      <td>1642</td>\n",
       "    </tr>\n",
       "    <tr>\n",
       "      <th>4</th>\n",
       "      <td>3126.573252</td>\n",
       "      <td>3389</td>\n",
       "    </tr>\n",
       "    <tr>\n",
       "      <th>5</th>\n",
       "      <td>1998.429707</td>\n",
       "      <td>348</td>\n",
       "    </tr>\n",
       "  </tbody>\n",
       "</table>\n",
       "</div>"
      ],
      "text/plain": [
       "             d     e\n",
       "1  5614.436960  1771\n",
       "2  2495.344624  1677\n",
       "3   573.987494  1642\n",
       "4  3126.573252  3389\n",
       "5  1998.429707   348"
      ]
     },
     "execution_count": 8,
     "metadata": {},
     "output_type": "execute_result"
    }
   ],
   "source": [
    "#take only edges with positive distances and weights (do not consider empty and loop edges)\n",
    "data=data.loc[(data.d>=1)&(data.e>0)]\n",
    "data.head()"
   ]
  },
  {
   "cell_type": "code",
   "execution_count": 9,
   "metadata": {
    "collapsed": false
   },
   "outputs": [
    {
     "name": "stdout",
     "output_type": "stream",
     "text": [
      "                            OLS Regression Results                            \n",
      "==============================================================================\n",
      "Dep. Variable:                 log(e)   R-squared:                       0.107\n",
      "Model:                            OLS   Adj. R-squared:                  0.106\n",
      "Method:                 Least Squares   F-statistic:                     284.8\n",
      "Date:                Fri, 04 Dec 2015   Prob (F-statistic):           1.89e-60\n",
      "Time:                        12:43:57   Log-Likelihood:                -4440.5\n",
      "No. Observations:                2383   AIC:                             8885.\n",
      "Df Residuals:                    2381   BIC:                             8897.\n",
      "Df Model:                           1                                         \n",
      "Covariance Type:            nonrobust                                         \n",
      "==============================================================================\n",
      "                 coef    std err          t      P>|t|      [95.0% Conf. Int.]\n",
      "------------------------------------------------------------------------------\n",
      "Intercept     11.8443      0.298     39.697      0.000        11.259    12.429\n",
      "log(d)        -0.6830      0.040    -16.877      0.000        -0.762    -0.604\n",
      "==============================================================================\n",
      "Omnibus:                       52.924   Durbin-Watson:                   1.414\n",
      "Prob(Omnibus):                  0.000   Jarque-Bera (JB):               56.356\n",
      "Skew:                          -0.356   Prob(JB):                     5.79e-13\n",
      "Kurtosis:                       3.248   Cond. No.                         70.1\n",
      "==============================================================================\n",
      "\n",
      "Warnings:\n",
      "[1] Standard Errors assume that the covariance matrix of the errors is correctly specified.\n"
     ]
    },
    {
     "data": {
      "text/plain": [
       "<matplotlib.text.Text at 0x1918a358>"
      ]
     },
     "execution_count": 9,
     "metadata": {},
     "output_type": "execute_result"
    },
    {
     "data": {
      "image/png": "[encoded data removed]",
      "text/plain": [
       "<matplotlib.figure.Figure at 0x17c2bb38>"
      ]
     },
     "metadata": {},
     "output_type": "display_data"
    }
   ],
   "source": [
    "#fit a power law e~d^q on a log-scale and visualize the dependence\n",
    "lm = smf.ols(formula='log(e) ~ log(d)', data = data).fit()\n",
    "print(lm.summary())\n",
    "lme = lm.predict(data)\n",
    "plt.plot(log(data.d),log(data.e),'or')\n",
    "plt.plot(log(data.d),lme,'-b')  \n",
    "plt.xlabel('log(d)')\n",
    "plt.ylabel('log(e)')"
   ]
  },
  {
   "cell_type": "markdown",
   "metadata": {},
   "source": [
    "now try the standard gravity law"
   ]
  },
  {
   "cell_type": "code",
   "execution_count": 10,
   "metadata": {
    "collapsed": false
   },
   "outputs": [],
   "source": [
    "#assign weights to the nodes based on their population\n",
    "USmig_w={}\n",
    "for k in state_pop.index:\n",
    "    USmig_w[state_pop.State[k]]=state_pop.Population[k]"
   ]
  },
  {
   "cell_type": "code",
   "execution_count": 11,
   "metadata": {
    "collapsed": true
   },
   "outputs": [],
   "source": [
    "#remove loop edges (in-state migrations)\n",
    "for k in USmig.nodes():\n",
    "    USmig[k][k]['weight']=0"
   ]
  },
  {
   "cell_type": "code",
   "execution_count": 12,
   "metadata": {
    "collapsed": true
   },
   "outputs": [],
   "source": [
    "USmig_wout=USmig.out_degree(weight='weight')\n",
    "USmig_win=USmig.in_degree(weight='weight')"
   ]
  },
  {
   "cell_type": "code",
   "execution_count": 13,
   "metadata": {
    "collapsed": false
   },
   "outputs": [],
   "source": [
    "data=pd.DataFrame({'d':[],'e':[],'w1':[],'w2':[]})\n",
    "for e in USmig.edges(data=True):\n",
    "    i=data.index.max()\n",
    "    if isnan(i):\n",
    "        i=-1\n",
    "    data.loc[i + 1] = [e[2]['dist'], e[2]['weight'], USmig_w[e[0]], USmig_w[e[1]]]"
   ]
  },
  {
   "cell_type": "code",
   "execution_count": 14,
   "metadata": {
    "collapsed": false
   },
   "outputs": [
    {
     "data": {
      "text/plain": [
       "{'dist': 0, 'weight': 0}"
      ]
     },
     "execution_count": 14,
     "metadata": {},
     "output_type": "execute_result"
    }
   ],
   "source": [
    "USmig[1][1]"
   ]
  },
  {
   "cell_type": "code",
   "execution_count": 15,
   "metadata": {
    "collapsed": false
   },
   "outputs": [
    {
     "data": {
      "text/html": [
       "<div>\n",
       "<table border=\"1\" class=\"dataframe\">\n",
       "  <thead>\n",
       "    <tr style=\"text-align: right;\">\n",
       "      <th></th>\n",
       "      <th>d</th>\n",
       "      <th>e</th>\n",
       "      <th>w1</th>\n",
       "      <th>w2</th>\n",
       "    </tr>\n",
       "  </thead>\n",
       "  <tbody>\n",
       "    <tr>\n",
       "      <th>1</th>\n",
       "      <td>5614.436960</td>\n",
       "      <td>1771</td>\n",
       "      <td>4745278</td>\n",
       "      <td>711962</td>\n",
       "    </tr>\n",
       "    <tr>\n",
       "      <th>2</th>\n",
       "      <td>2495.344624</td>\n",
       "      <td>1677</td>\n",
       "      <td>4745278</td>\n",
       "      <td>6402301</td>\n",
       "    </tr>\n",
       "    <tr>\n",
       "      <th>3</th>\n",
       "      <td>573.987494</td>\n",
       "      <td>1642</td>\n",
       "      <td>4745278</td>\n",
       "      <td>2906632</td>\n",
       "    </tr>\n",
       "    <tr>\n",
       "      <th>4</th>\n",
       "      <td>3126.573252</td>\n",
       "      <td>3389</td>\n",
       "      <td>4745278</td>\n",
       "      <td>37222678</td>\n",
       "    </tr>\n",
       "    <tr>\n",
       "      <th>5</th>\n",
       "      <td>1998.429707</td>\n",
       "      <td>348</td>\n",
       "      <td>4745278</td>\n",
       "      <td>5048443</td>\n",
       "    </tr>\n",
       "  </tbody>\n",
       "</table>\n",
       "</div>"
      ],
      "text/plain": [
       "             d     e       w1        w2\n",
       "1  5614.436960  1771  4745278    711962\n",
       "2  2495.344624  1677  4745278   6402301\n",
       "3   573.987494  1642  4745278   2906632\n",
       "4  3126.573252  3389  4745278  37222678\n",
       "5  1998.429707   348  4745278   5048443"
      ]
     },
     "execution_count": 15,
     "metadata": {},
     "output_type": "execute_result"
    }
   ],
   "source": [
    "data1=data.loc[(data.d>1)&(data.e>0)&(data.w1>0)&(data.w2>0)]\n",
    "data1.head()"
   ]
  },
  {
   "cell_type": "code",
   "execution_count": 16,
   "metadata": {
    "collapsed": false
   },
   "outputs": [
    {
     "name": "stdout",
     "output_type": "stream",
     "text": [
      "                            OLS Regression Results                            \n",
      "==============================================================================\n",
      "Dep. Variable:                 log(e)   R-squared:                       0.537\n",
      "Model:                            OLS   Adj. R-squared:                  0.537\n",
      "Method:                 Least Squares   F-statistic:                     921.5\n",
      "Date:                Fri, 04 Dec 2015   Prob (F-statistic):               0.00\n",
      "Time:                        12:44:03   Log-Likelihood:                -3656.4\n",
      "No. Observations:                2383   AIC:                             7321.\n",
      "Df Residuals:                    2379   BIC:                             7344.\n",
      "Df Model:                           3                                         \n",
      "Covariance Type:            nonrobust                                         \n",
      "==============================================================================\n",
      "                 coef    std err          t      P>|t|      [95.0% Conf. Int.]\n",
      "------------------------------------------------------------------------------\n",
      "Intercept    -12.5761      0.562    -22.377      0.000       -13.678   -11.474\n",
      "log(d)        -0.5803      0.029    -19.860      0.000        -0.638    -0.523\n",
      "log(w1)        0.8070      0.023     35.677      0.000         0.763     0.851\n",
      "log(w2)        0.7526      0.023     33.162      0.000         0.708     0.797\n",
      "==============================================================================\n",
      "Omnibus:                       98.606   Durbin-Watson:                   1.727\n",
      "Prob(Omnibus):                  0.000   Jarque-Bera (JB):              159.904\n",
      "Skew:                          -0.355   Prob(JB):                     1.89e-35\n",
      "Kurtosis:                       4.052   Cond. No.                         555.\n",
      "==============================================================================\n",
      "\n",
      "Warnings:\n",
      "[1] Standard Errors assume that the covariance matrix of the errors is correctly specified.\n"
     ]
    },
    {
     "data": {
      "text/plain": [
       "[<matplotlib.lines.Line2D at 0x3dbee80>]"
      ]
     },
     "execution_count": 16,
     "metadata": {},
     "output_type": "execute_result"
    },
    {
     "data": {
      "image/png": "[encoded data removed]",
      "text/plain": [
       "<matplotlib.figure.Figure at 0x179255f8>"
      ]
     },
     "metadata": {},
     "output_type": "display_data"
    }
   ],
   "source": [
    "lm = smf.ols(formula='log(e) ~ log(d)+log(w1)+log(w2)', data = data1).fit()\n",
    "print(lm.summary())\n",
    "lme = lm.predict(data1)\n",
    "plt.plot(lme,log(data1.e),'or')\n",
    "plt.plot(lme,lme,'-b')  "
   ]
  },
  {
   "cell_type": "markdown",
   "metadata": {},
   "source": [
    "now perform model validation fitting it on one part of the network and applying to the other"
   ]
  },
  {
   "cell_type": "code",
   "execution_count": 18,
   "metadata": {
    "collapsed": false
   },
   "outputs": [],
   "source": [
    "#now perform model validation\n",
    "random.seed(2015)\n",
    "ind=stat.bernoulli.rvs(p = 0.67, size = len(data1.e))\n",
    "train=data1.loc[ind==1]\n",
    "valid=data1.loc[ind==0]"
   ]
  },
  {
   "cell_type": "code",
   "execution_count": 19,
   "metadata": {
    "collapsed": false
   },
   "outputs": [
    {
     "name": "stdout",
     "output_type": "stream",
     "text": [
      "                            OLS Regression Results                            \n",
      "==============================================================================\n",
      "Dep. Variable:                 log(e)   R-squared:                       0.530\n",
      "Model:                            OLS   Adj. R-squared:                  0.529\n",
      "Method:                 Least Squares   F-statistic:                     589.9\n",
      "Date:                Fri, 04 Dec 2015   Prob (F-statistic):          1.50e-256\n",
      "Time:                        12:44:46   Log-Likelihood:                -2431.3\n",
      "No. Observations:                1571   AIC:                             4871.\n",
      "Df Residuals:                    1567   BIC:                             4892.\n",
      "Df Model:                           3                                         \n",
      "Covariance Type:            nonrobust                                         \n",
      "==============================================================================\n",
      "                 coef    std err          t      P>|t|      [95.0% Conf. Int.]\n",
      "------------------------------------------------------------------------------\n",
      "Intercept    -12.9251      0.693    -18.641      0.000       -14.285   -11.565\n",
      "log(d)        -0.5511      0.036    -15.318      0.000        -0.622    -0.481\n",
      "log(w1)        0.8057      0.029     28.214      0.000         0.750     0.862\n",
      "log(w2)        0.7613      0.028     26.954      0.000         0.706     0.817\n",
      "==============================================================================\n",
      "Omnibus:                       58.924   Durbin-Watson:                   1.671\n",
      "Prob(Omnibus):                  0.000   Jarque-Bera (JB):               94.747\n",
      "Skew:                          -0.323   Prob(JB):                     2.67e-21\n",
      "Kurtosis:                       4.016   Cond. No.                         548.\n",
      "==============================================================================\n",
      "\n",
      "Warnings:\n",
      "[1] Standard Errors assume that the covariance matrix of the errors is correctly specified.\n",
      "Validation error=0.547941206688\n"
     ]
    },
    {
     "data": {
      "image/png": "[encoded data removed]",
      "text/plain": [
       "<matplotlib.figure.Figure at 0x17cb9f98>"
      ]
     },
     "metadata": {},
     "output_type": "display_data"
    }
   ],
   "source": [
    "lm = smf.ols(formula='log(e) ~ log(d)+log(w1)+log(w2)', data = train).fit()\n",
    "print(lm.summary())\n",
    "lme = lm.predict(valid)\n",
    "plt.plot(lme,log(valid.e),'or')\n",
    "plt.plot(lme,lme,'-b')\n",
    "R2=1-sum(pow(log(valid.e)-lme,2))/sum(pow(log(valid.e)-mean(log(valid.e)),2)) \n",
    "print('Validation error={0}'.format(R2))"
   ]
  },
  {
   "cell_type": "markdown",
   "metadata": {},
   "source": [
    "## US State2State migration modeling - gravity law with local normalization"
   ]
  },
  {
   "cell_type": "code",
   "execution_count": 20,
   "metadata": {
    "collapsed": false
   },
   "outputs": [],
   "source": [
    "# function locally normalized gravity model fit (in terms of log-scale R2) for given exponents q\n",
    "def LNGmodel(q):\n",
    "    #first pass - assign relative weights as the model prediction\n",
    "    for e in USmig.edges():\n",
    "        if e[0]!=e[1]:\n",
    "            USmig[e[0]][e[1]]['predict']=(USmig[e[0]][e[1]]['dist']**q[0])*(USmig_w[e[1]]**q[1])\n",
    "        else:\n",
    "            USmig[e[0]][e[1]]['predict']=USmig[e[0]][e[1]]['weight']\n",
    "            \n",
    "    #compute normalization factors    \n",
    "    USmig_norm=USmig.out_degree(weight='predict')\n",
    "    for a in USmig.nodes():\n",
    "        USmig_norm[a]=(USmig_wout[a]-USmig[a][a]['weight'])/(USmig_norm[a]-USmig[a][a]['predict'])\n",
    "    #second pass - normalize model predictions   \n",
    "    E=np.array([0]*USmig.size())\n",
    "    me=np.array([0]*USmig.size())\n",
    "    i=0\n",
    "    for e in USmig.edges():\n",
    "        if e[0]!=e[1]:\n",
    "            USmig[e[0]][e[1]]['predict']*=USmig_norm[e[0]]\n",
    "            #print(USmig[e[0]][e[1]]['weight'],USmig[e[0]][e[1]]['predict'])\n",
    "            E[i]=USmig[e[0]][e[1]]['weight']\n",
    "            me[i]=USmig[e[0]][e[1]]['predict']\n",
    "            i+=1\n",
    "    E=E[0:i]\n",
    "    me=me[0:i]\n",
    "    me=me[E>0]\n",
    "    E=E[E>0]\n",
    "    R2=1-sum(pow(log(E)-log(me),2))/sum(pow(log(E)-mean(log(E)),2))    \n",
    "    return (R2,E,me) #performance and edge weights-predictions for fit visualization purposes "
   ]
  },
  {
   "cell_type": "code",
   "execution_count": 21,
   "metadata": {
    "collapsed": true
   },
   "outputs": [],
   "source": [
    "def LNGmodelFit(q):\n",
    "    #version for maximization\n",
    "    return -LNGmodel(q)[0]"
   ]
  },
  {
   "cell_type": "code",
   "execution_count": 22,
   "metadata": {
    "collapsed": false
   },
   "outputs": [],
   "source": [
    "#fit model parameters\n",
    "res=optimize.minimize(LNGmodelFit,[0, 1],method='Nelder-Mead')"
   ]
  },
  {
   "cell_type": "code",
   "execution_count": 23,
   "metadata": {
    "collapsed": false
   },
   "outputs": [
    {
     "data": {
      "text/plain": [
       "  status: 0\n",
       "    nfev: 109\n",
       " success: True\n",
       "     fun: -0.56957491974468411\n",
       "       x: array([-0.97070785,  0.90931302])\n",
       " message: 'Optimization terminated successfully.'\n",
       "     nit: 51"
      ]
     },
     "execution_count": 23,
     "metadata": {},
     "output_type": "execute_result"
    }
   ],
   "source": [
    "res"
   ]
  },
  {
   "cell_type": "code",
   "execution_count": 24,
   "metadata": {
    "collapsed": false
   },
   "outputs": [],
   "source": [
    "(R2,e,me)=LNGmodel(res.x)"
   ]
  },
  {
   "cell_type": "code",
   "execution_count": 25,
   "metadata": {
    "collapsed": false
   },
   "outputs": [
    {
     "data": {
      "text/plain": [
       "[<matplotlib.lines.Line2D at 0x19293978>]"
      ]
     },
     "execution_count": 25,
     "metadata": {},
     "output_type": "execute_result"
    },
    {
     "data": {
      "image/png": "[encoded data removed]",
      "text/plain": [
       "<matplotlib.figure.Figure at 0x19293908>"
      ]
     },
     "metadata": {},
     "output_type": "display_data"
    }
   ],
   "source": [
    "plt.plot(log(e),log(me),'or')\n",
    "plt.plot(log(me),log(me),'-b')  "
   ]
  },
  {
   "cell_type": "markdown",
   "metadata": {},
   "source": [
    "R2 on real scale\n",
    "train - validation"
   ]
  },
  {
   "cell_type": "markdown",
   "metadata": {},
   "source": [
    "## Taxi ridership"
   ]
  },
  {
   "cell_type": "code",
   "execution_count": null,
   "metadata": {
    "collapsed": true
   },
   "outputs": [],
   "source": [
    "taxioct = pd.read_csv('https://serv.cusp.nyu.edu/files/ADS-2015/NetworkAnalysis/lab2/oct2013aggr2.csv',header=-1)"
   ]
  },
  {
   "cell_type": "code",
   "execution_count": null,
   "metadata": {
    "collapsed": false
   },
   "outputs": [],
   "source": [
    "NYCCD_dist=pd.read_csv( 'https://serv.cusp.nyu.edu/files/ADS-2015/NetworkAnalysis/lab4/NYCCD_dist.csv' , header=0 )"
   ]
  },
  {
   "cell_type": "code",
   "execution_count": null,
   "metadata": {
    "collapsed": false
   },
   "outputs": [],
   "source": [
    "taxioct.head()"
   ]
  },
  {
   "cell_type": "code",
   "execution_count": null,
   "metadata": {
    "collapsed": false
   },
   "outputs": [],
   "source": [
    "NYCCD_dist.head()"
   ]
  },
  {
   "cell_type": "code",
   "execution_count": null,
   "metadata": {
    "collapsed": false
   },
   "outputs": [],
   "source": [
    "#aggregate the network for entire month\n",
    "taxinet=nx.DiGraph()\n",
    "for i in taxioct.index:\n",
    "    if not taxinet.has_edge(taxioct[1][i],taxioct[2][i]):\n",
    "        taxinet.add_edge(taxioct[1][i],taxioct[2][i],weight=taxioct[3][i])\n",
    "    else:\n",
    "        taxinet[taxioct[1][i]][taxioct[2][i]]['weight']+=taxioct[3][i]"
   ]
  },
  {
   "cell_type": "code",
   "execution_count": null,
   "metadata": {
    "collapsed": false
   },
   "outputs": [],
   "source": [
    "minH=min(taxioct[0])\n",
    "maxH=max(taxioct[0])\n",
    "taxihn={}\n",
    "#initialize empty networks for each hour\n",
    "for h in range(0,maxH-minH+1):\n",
    "    taxihn[h]=nx.DiGraph()\n",
    "#aggregate networks per hour    \n",
    "for i in taxioct.index:\n",
    "    h=taxioct[0][i]-minH\n",
    "    if not taxihn[h].has_edge(taxioct[1][i],taxioct[2][i]):\n",
    "        taxihn[h].add_edge(taxioct[1][i],taxioct[2][i],weight=taxioct[3][i])\n",
    "    else:\n",
    "        taxihn[h][taxioct[1][i]][taxioct[2][i]]['weight']+=taxioct[3][i]"
   ]
  },
  {
   "cell_type": "code",
   "execution_count": null,
   "metadata": {
    "collapsed": false
   },
   "outputs": [],
   "source": [
    "for k in NYCCD_dist.index:\n",
    "    if taxinet.has_edge(NYCCD_dist.Var1[k],NYCCD_dist.Var2[k]):\n",
    "        taxinet[NYCCD_dist.Var1[k]][NYCCD_dist.Var2[k]]['dist']=NYCCD_dist.d[k]\n",
    "    for h in range(0,maxH-minH+1):    \n",
    "        if taxihn[h].has_edge(NYCCD_dist.Var1[k],NYCCD_dist.Var2[k]):\n",
    "            taxihn[h][NYCCD_dist.Var1[k]][NYCCD_dist.Var2[k]]['dist']=NYCCD_dist.d[k]        "
   ]
  },
  {
   "cell_type": "markdown",
   "metadata": {},
   "source": [
    "Fit gravity model to the entire month taxi data (node weights taken from the network with distinguishing between incoming and outgoing weights)"
   ]
  },
  {
   "cell_type": "code",
   "execution_count": null,
   "metadata": {
    "collapsed": true
   },
   "outputs": [],
   "source": [
    "#first summarize the above approach into a reusable function\n",
    "def fitGravity(net,w_out,w_in,vis):\n",
    "    data=pd.DataFrame({'d':[],'e':[]})\n",
    "    for e in net.edges(data=True):\n",
    "        i=data.index.max()\n",
    "        if isnan(i):\n",
    "            i=-1\n",
    "        if (e[0]!=e[1])&(e[0]>0)&(e[1]>0)&(w_out[e[0]]>0)&(w_in[e[1]]>0):\n",
    "            data.loc[i + 1] = [e[2]['dist'], 1.0*e[2]['weight']/w_out[e[0]]/w_in[e[1]]]\n",
    "    data=data.loc[(data.d>=1)&(data.e>0)]        \n",
    "    lm = smf.ols(formula='log(e) ~ log(d)', data = data).fit()\n",
    "    if vis:\n",
    "        print(lm.summary())\n",
    "        lme = lm.predict(data)\n",
    "        plt.plot(log(data.d),log(data.e),'or')\n",
    "        plt.plot(log(data.d),lme,'-b')     \n",
    "    return lm.params[1]    "
   ]
  },
  {
   "cell_type": "code",
   "execution_count": null,
   "metadata": {
    "collapsed": true
   },
   "outputs": [],
   "source": [
    "tw_out=taxinet.out_degree(weight='weight')\n",
    "tw_in=taxinet.in_degree(weight='weight')"
   ]
  },
  {
   "cell_type": "code",
   "execution_count": null,
   "metadata": {
    "collapsed": false
   },
   "outputs": [],
   "source": [
    "par=fitGravity(taxinet,tw_out,tw_in,True)"
   ]
  },
  {
   "cell_type": "code",
   "execution_count": null,
   "metadata": {
    "collapsed": false
   },
   "outputs": [],
   "source": [
    "par"
   ]
  },
  {
   "cell_type": "code",
   "execution_count": null,
   "metadata": {
    "collapsed": false
   },
   "outputs": [],
   "source": [
    "p=[0]*(maxH-minH+1)\n",
    "for h in range(0,maxH-minH+1):\n",
    "   p[h]=fitGravity(taxihn[h],tw_out,tw_in,False)\n",
    "   print('Hour {0}:{1}'.format(h,p[h]))"
   ]
  },
  {
   "cell_type": "code",
   "execution_count": null,
   "metadata": {
    "collapsed": false
   },
   "outputs": [],
   "source": [
    "plt.figure(figsize = (18,6))\n",
    "plt.plot(p,':')"
   ]
  },
  {
   "cell_type": "code",
   "execution_count": null,
   "metadata": {
    "collapsed": true
   },
   "outputs": [],
   "source": []
  }
 ],
 "metadata": {
  "kernelspec": {
   "display_name": "Python 2",
   "language": "python",
   "name": "python2"
  },
  "language_info": {
   "codemirror_mode": {
    "name": "ipython",
    "version": 2
   },
   "file_extension": ".py",
   "mimetype": "text/x-python",
   "name": "python",
   "nbconvert_exporter": "python",
   "pygments_lexer": "ipython2",
   "version": "2.7.10"
  }
 },
 "nbformat": 4,
 "nbformat_minor": 0
}
