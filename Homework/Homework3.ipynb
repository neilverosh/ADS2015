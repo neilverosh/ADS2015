{
 "cells": [
  {
   "cell_type": "markdown",
   "metadata": {},
   "source": [
    "# Homework 3\n"
   ]
  },
  {
   "cell_type": "markdown",
   "metadata": {},
   "source": [
    "### Problem 1 (5% credit). \n",
    "Consider a multivariate regression of the output variable y over the 3\n",
    "regressors regressors x_1, x_2, x_3, with the observations from the file stored under the following link:\n",
    "https://serv.cusp.nyu.edu/files/ADS-2015/MorningSection/homework3/H31.csv\n",
    "(also see below)\n",
    "Which one of the regressors is a dummy variable corresponding to an intercept term?"
   ]
  },
  {
   "cell_type": "code",
   "execution_count": 1,
   "metadata": {
    "collapsed": false
   },
   "outputs": [
    {
     "name": "stdout",
     "output_type": "stream",
     "text": [
      "Populating the interactive namespace from numpy and matplotlib\n"
     ]
    },
    {
     "data": {
      "text/html": [
       "<div>\n",
       "<table border=\"1\" class=\"dataframe\">\n",
       "  <thead>\n",
       "    <tr style=\"text-align: right;\">\n",
       "      <th></th>\n",
       "      <th>y</th>\n",
       "      <th>x1</th>\n",
       "      <th>x2</th>\n",
       "      <th>x3</th>\n",
       "    </tr>\n",
       "  </thead>\n",
       "  <tbody>\n",
       "    <tr>\n",
       "      <th>1</th>\n",
       "      <td>0</td>\n",
       "      <td>1</td>\n",
       "      <td>-2</td>\n",
       "      <td>1</td>\n",
       "    </tr>\n",
       "    <tr>\n",
       "      <th>2</th>\n",
       "      <td>2</td>\n",
       "      <td>1</td>\n",
       "      <td>-1</td>\n",
       "      <td>-1</td>\n",
       "    </tr>\n",
       "    <tr>\n",
       "      <th>3</th>\n",
       "      <td>2</td>\n",
       "      <td>1</td>\n",
       "      <td>0</td>\n",
       "      <td>0</td>\n",
       "    </tr>\n",
       "    <tr>\n",
       "      <th>4</th>\n",
       "      <td>3</td>\n",
       "      <td>1</td>\n",
       "      <td>1</td>\n",
       "      <td>-1</td>\n",
       "    </tr>\n",
       "    <tr>\n",
       "      <th>5</th>\n",
       "      <td>3</td>\n",
       "      <td>1</td>\n",
       "      <td>2</td>\n",
       "      <td>1</td>\n",
       "    </tr>\n",
       "  </tbody>\n",
       "</table>\n",
       "</div>"
      ],
      "text/plain": [
       "   y  x1  x2  x3\n",
       "1  0   1  -2   1\n",
       "2  2   1  -1  -1\n",
       "3  2   1   0   0\n",
       "4  3   1   1  -1\n",
       "5  3   1   2   1"
      ]
     },
     "execution_count": 1,
     "metadata": {},
     "output_type": "execute_result"
    }
   ],
   "source": [
    "import numpy as np\n",
    "from numpy import random\n",
    "from scipy import stats\n",
    "import matplotlib.pyplot as plt\n",
    "%pylab inline\n",
    "import pandas as pd\n",
    "import statsmodels.formula.api as smf\n",
    "data=pd.read_csv('https://serv.cusp.nyu.edu/files/ADS-2015/MorningSection/homework3/H31.csv', index_col=0)\n",
    "data.head()"
   ]
  },
  {
   "cell_type": "markdown",
   "metadata": {},
   "source": [
    "Answer 1: The dummy variable corresponding to an intercept term is x1 = 1 since its value remains constant throughout."
   ]
  },
  {
   "cell_type": "markdown",
   "metadata": {},
   "source": [
    "### Problem 2 (15% credit). \n",
    "For the data from the problem 1 perform a manual estimate for the least-square multivariate regression coefficients  (not using regression tools, but using appropriate matrix operations and formula (3) from the session notebook)."
   ]
  },
  {
   "cell_type": "code",
   "execution_count": 2,
   "metadata": {
    "collapsed": false
   },
   "outputs": [
    {
     "name": "stdout",
     "output_type": "stream",
     "text": [
      "                            OLS Regression Results                            \n",
      "==============================================================================\n",
      "Dep. Variable:                      y   R-squared:                       0.817\n",
      "Model:                            OLS   Adj. R-squared:                  0.756\n",
      "Method:                 Least Squares   F-statistic:                     13.36\n",
      "Date:                Sun, 04 Oct 2015   Prob (F-statistic):             0.0354\n",
      "Time:                        19:43:19   Log-Likelihood:                -3.3094\n",
      "No. Observations:                   5   AIC:                             10.62\n",
      "Df Residuals:                       3   BIC:                             9.838\n",
      "Df Model:                           1                                         \n",
      "Covariance Type:            nonrobust                                         \n",
      "==============================================================================\n",
      "                 coef    std err          t      P>|t|      [95.0% Conf. Int.]\n",
      "------------------------------------------------------------------------------\n",
      "Intercept      1.0000      0.135      7.385      0.005         0.569     1.431\n",
      "x1             1.0000      0.135      7.385      0.005         0.569     1.431\n",
      "x2             0.7000      0.191      3.656      0.035         0.091     1.309\n",
      "==============================================================================\n",
      "Omnibus:                          nan   Durbin-Watson:                   2.509\n",
      "Prob(Omnibus):                    nan   Jarque-Bera (JB):                0.396\n",
      "Skew:                           0.174   Prob(JB):                        0.821\n",
      "Kurtosis:                       1.667   Cond. No.                     5.44e+16\n",
      "==============================================================================\n",
      "\n",
      "Warnings:\n",
      "[1] Standard Errors assume that the covariance matrix of the errors is correctly specified.\n",
      "[2] The smallest eigenvalue is 3.38e-33. This might indicate that there are\n",
      "strong multicollinearity problems or that the design matrix is singular.\n"
     ]
    },
    {
     "name": "stderr",
     "output_type": "stream",
     "text": [
      "C:\\Users\\Neil\\Anaconda\\lib\\site-packages\\statsmodels\\stats\\stattools.py:72: UserWarning: omni_normtest is not valid with less than 8 observations; 5 samples were given.\n",
      "  \"samples were given.\" % int(n))\n"
     ]
    },
    {
     "data": {
      "text/plain": [
       "[<matplotlib.lines.Line2D at 0x18433b70>]"
      ]
     },
     "execution_count": 2,
     "metadata": {},
     "output_type": "execute_result"
    },
    {
     "data": {
      "image/png": "[encoded data removed]",
      "text/plain": [
       "<matplotlib.figure.Figure at 0x3d0bc18>"
      ]
     },
     "metadata": {},
     "output_type": "display_data"
    }
   ],
   "source": [
    "#Answer 2:\n",
    "X=np.matrix(pd.DataFrame({'intercept': data.x1,'x1':data.x2,'x2':data.x3}))\n",
    "Y=np.matrix(data.y).transpose()\n",
    "w=pow((X.transpose()*X),-1)*X.transpose()*Y\n",
    "lm = smf.ols(formula='y ~ x1+x2', data = data).fit()\n",
    "print(lm.summary())\n",
    "lmy = lm.predict(data)\n",
    "plt.plot(lmy,data.y,'or')\n",
    "plt.plot(lmy,lmy,'-b')   "
   ]
  },
  {
   "cell_type": "markdown",
   "metadata": {},
   "source": [
    "## Problem 3 (15% of credit)\n",
    "Prove that regressors x1,x2,x3 are mutually ortogonal. Perform an estimate for regression coefficients using uni-variate regressions formulas. Compare with the results of problem 2."
   ]
  },
  {
   "cell_type": "code",
   "execution_count": 3,
   "metadata": {
    "collapsed": false
   },
   "outputs": [
    {
     "name": "stdout",
     "output_type": "stream",
     "text": [
      "[[0 0 0]\n",
      " [0 0 0]\n",
      " [0 0 0]]\n",
      "[[False False False]\n",
      " [False False False]\n",
      " [False False False]]\n",
      "[1.0, -1.0]\n",
      "Intercept    1.0\n",
      "x1           1.0\n",
      "x2           0.7\n",
      "dtype: float64\n"
     ]
    }
   ],
   "source": [
    "# Answer 3:\n",
    "X=np.matrix(data)\n",
    "cov=(X[:,1:4]).transpose()*(X[:,1:4])/100\n",
    "print cov\n",
    "print(cov>1e-10)\n",
    "w1=float(sum(data.y*data.x2)/5)\n",
    "w2=float(sum(data.y*data.x3)/5)\n",
    "print([w1,w2])\n",
    "print(lm.params)"
   ]
  },
  {
   "cell_type": "markdown",
   "metadata": {},
   "source": [
    "Since the inner product of regressors equals zero (cov matrix), the regressors are orthogonal.\n",
    "The estimate for regression values using uni-variate formulas results in the same values as those in Problem 2."
   ]
  },
  {
   "cell_type": "markdown",
   "metadata": {},
   "source": [
    "### Problem 4 (5% credit)\n",
    "Suppose that a multiple regression with 7 regressors gave the following p-values for each of them:\n",
    "0.01, 1e-15, 0.1, 0.04, 0.001, 0.06, 0.03\n",
    "How many regressors you would exclude based on that? Please explain."
   ]
  },
  {
   "cell_type": "markdown",
   "metadata": {},
   "source": [
    "Answer 4: I would probably eliminate some combination of the regressors with p-values 0.1, 0.06 and maybe 0.04 respectively (or all three) as they have higher p-values as compared to the other regressors. A higher p-value indicates that there is some correlation and hence we may not need those regressors."
   ]
  },
  {
   "cell_type": "markdown",
   "metadata": {},
   "source": [
    "### Problem 6 (20% credit)\n",
    "Perform a multivariate regression of y over x1,x2,x3,x4,x5 (with an intercept) using the observations from: https://serv.cusp.nyu.edu/files/ADS-2015/MorningSection/homework3/H32.csv"
   ]
  },
  {
   "cell_type": "code",
   "execution_count": 4,
   "metadata": {
    "collapsed": false
   },
   "outputs": [
    {
     "name": "stdout",
     "output_type": "stream",
     "text": [
      "                            OLS Regression Results                            \n",
      "==============================================================================\n",
      "Dep. Variable:                      y   R-squared:                       0.969\n",
      "Model:                            OLS   Adj. R-squared:                  0.967\n",
      "Method:                 Least Squares   F-statistic:                     581.7\n",
      "Date:                Sun, 04 Oct 2015   Prob (F-statistic):           4.76e-69\n",
      "Time:                        19:43:30   Log-Likelihood:                -220.81\n",
      "No. Observations:                 100   AIC:                             453.6\n",
      "Df Residuals:                      94   BIC:                             469.3\n",
      "Df Model:                           5                                         \n",
      "Covariance Type:            nonrobust                                         \n",
      "==============================================================================\n",
      "                 coef    std err          t      P>|t|      [95.0% Conf. Int.]\n",
      "------------------------------------------------------------------------------\n",
      "Intercept     -0.2251      0.648     -0.347      0.729        -1.513     1.062\n",
      "x1             0.0008      0.008      0.098      0.922        -0.015     0.017\n",
      "x2            -0.0208      0.016     -1.329      0.187        -0.052     0.010\n",
      "x3             2.0103      0.043     46.266      0.000         1.924     2.097\n",
      "x4            -1.0059      0.087    -11.600      0.000        -1.178    -0.834\n",
      "x5            10.4007      0.796     13.070      0.000         8.821    11.981\n",
      "==============================================================================\n",
      "Omnibus:                        7.114   Durbin-Watson:                   2.134\n",
      "Prob(Omnibus):                  0.029   Jarque-Bera (JB):                6.748\n",
      "Skew:                           0.521   Prob(JB):                       0.0342\n",
      "Kurtosis:                       3.732   Cond. No.                         239.\n",
      "==============================================================================\n",
      "\n",
      "Warnings:\n",
      "[1] Standard Errors assume that the covariance matrix of the errors is correctly specified.\n"
     ]
    },
    {
     "data": {
      "text/plain": [
       "[<matplotlib.lines.Line2D at 0x3d0bcf8>]"
      ]
     },
     "execution_count": 4,
     "metadata": {},
     "output_type": "execute_result"
    },
    {
     "data": {
      "image/png": "[encoded data removed]",
      "text/plain": [
       "<matplotlib.figure.Figure at 0x3d0bdd8>"
      ]
     },
     "metadata": {},
     "output_type": "display_data"
    }
   ],
   "source": [
    "# Answer 6:\n",
    "data2=pd.read_csv('https://serv.cusp.nyu.edu/files/ADS-2015/MorningSection/homework3/H32.csv', index_col=0)\n",
    "data2.head()\n",
    "validation=data2[70:99]\n",
    "data=data2[0:69]\n",
    "lm = smf.ols(formula='y ~ x1+x2+x3+x4+x5', data = data2).fit()\n",
    "print(lm.summary())\n",
    "lmy = lm.predict(data2)\n",
    "plt.plot(lmy,data2.y,'or')\n",
    "plt.plot(lmy,lmy,'-b') "
   ]
  },
  {
   "cell_type": "markdown",
   "metadata": {},
   "source": [
    "### Problem 7 (20% credit)\n",
    "Perform the same regression as from the problem 5 but after standardization of the regressors. Report the regressor having the highest impact on the responce variable."
   ]
  },
  {
   "cell_type": "code",
   "execution_count": 5,
   "metadata": {
    "collapsed": false
   },
   "outputs": [
    {
     "data": {
      "text/html": [
       "<table class=\"simpletable\">\n",
       "<caption>OLS Regression Results</caption>\n",
       "<tr>\n",
       "  <th>Dep. Variable:</th>            <td>y</td>        <th>  R-squared:         </th> <td>   0.969</td>\n",
       "</tr>\n",
       "<tr>\n",
       "  <th>Model:</th>                   <td>OLS</td>       <th>  Adj. R-squared:    </th> <td>   0.967</td>\n",
       "</tr>\n",
       "<tr>\n",
       "  <th>Method:</th>             <td>Least Squares</td>  <th>  F-statistic:       </th> <td>   581.7</td>\n",
       "</tr>\n",
       "<tr>\n",
       "  <th>Date:</th>             <td>Sun, 04 Oct 2015</td> <th>  Prob (F-statistic):</th> <td>4.76e-69</td>\n",
       "</tr>\n",
       "<tr>\n",
       "  <th>Time:</th>                 <td>19:43:33</td>     <th>  Log-Likelihood:    </th> <td> -220.81</td>\n",
       "</tr>\n",
       "<tr>\n",
       "  <th>No. Observations:</th>      <td>   100</td>      <th>  AIC:               </th> <td>   453.6</td>\n",
       "</tr>\n",
       "<tr>\n",
       "  <th>Df Residuals:</th>          <td>    94</td>      <th>  BIC:               </th> <td>   469.3</td>\n",
       "</tr>\n",
       "<tr>\n",
       "  <th>Df Model:</th>              <td>     5</td>      <th>                     </th>     <td> </td>   \n",
       "</tr>\n",
       "<tr>\n",
       "  <th>Covariance Type:</th>      <td>nonrobust</td>    <th>                     </th>     <td> </td>   \n",
       "</tr>\n",
       "</table>\n",
       "<table class=\"simpletable\">\n",
       "<tr>\n",
       "      <td></td>         <th>coef</th>     <th>std err</th>      <th>t</th>      <th>P>|t|</th> <th>[95.0% Conf. Int.]</th> \n",
       "</tr>\n",
       "<tr>\n",
       "  <th>Intercept</th> <td>   23.8651</td> <td>    0.227</td> <td>  105.095</td> <td> 0.000</td> <td>   23.414    24.316</td>\n",
       "</tr>\n",
       "<tr>\n",
       "  <th>x1</th>        <td>    0.0231</td> <td>    0.236</td> <td>    0.098</td> <td> 0.922</td> <td>   -0.445     0.491</td>\n",
       "</tr>\n",
       "<tr>\n",
       "  <th>x2</th>        <td>   -0.3145</td> <td>    0.237</td> <td>   -1.329</td> <td> 0.187</td> <td>   -0.784     0.155</td>\n",
       "</tr>\n",
       "<tr>\n",
       "  <th>x3</th>        <td>   11.0882</td> <td>    0.240</td> <td>   46.266</td> <td> 0.000</td> <td>   10.612    11.564</td>\n",
       "</tr>\n",
       "<tr>\n",
       "  <th>x4</th>        <td>   -2.7646</td> <td>    0.238</td> <td>  -11.600</td> <td> 0.000</td> <td>   -3.238    -2.291</td>\n",
       "</tr>\n",
       "<tr>\n",
       "  <th>x5</th>        <td>    3.0308</td> <td>    0.232</td> <td>   13.070</td> <td> 0.000</td> <td>    2.570     3.491</td>\n",
       "</tr>\n",
       "</table>\n",
       "<table class=\"simpletable\">\n",
       "<tr>\n",
       "  <th>Omnibus:</th>       <td> 7.114</td> <th>  Durbin-Watson:     </th> <td>   2.134</td>\n",
       "</tr>\n",
       "<tr>\n",
       "  <th>Prob(Omnibus):</th> <td> 0.029</td> <th>  Jarque-Bera (JB):  </th> <td>   6.748</td>\n",
       "</tr>\n",
       "<tr>\n",
       "  <th>Skew:</th>          <td> 0.521</td> <th>  Prob(JB):          </th> <td>  0.0342</td>\n",
       "</tr>\n",
       "<tr>\n",
       "  <th>Kurtosis:</th>      <td> 3.732</td> <th>  Cond. No.          </th> <td>    1.48</td>\n",
       "</tr>\n",
       "</table>"
      ],
      "text/plain": [
       "<class 'statsmodels.iolib.summary.Summary'>\n",
       "\"\"\"\n",
       "                            OLS Regression Results                            \n",
       "==============================================================================\n",
       "Dep. Variable:                      y   R-squared:                       0.969\n",
       "Model:                            OLS   Adj. R-squared:                  0.967\n",
       "Method:                 Least Squares   F-statistic:                     581.7\n",
       "Date:                Sun, 04 Oct 2015   Prob (F-statistic):           4.76e-69\n",
       "Time:                        19:43:33   Log-Likelihood:                -220.81\n",
       "No. Observations:                 100   AIC:                             453.6\n",
       "Df Residuals:                      94   BIC:                             469.3\n",
       "Df Model:                           5                                         \n",
       "Covariance Type:            nonrobust                                         \n",
       "==============================================================================\n",
       "                 coef    std err          t      P>|t|      [95.0% Conf. Int.]\n",
       "------------------------------------------------------------------------------\n",
       "Intercept     23.8651      0.227    105.095      0.000        23.414    24.316\n",
       "x1             0.0231      0.236      0.098      0.922        -0.445     0.491\n",
       "x2            -0.3145      0.237     -1.329      0.187        -0.784     0.155\n",
       "x3            11.0882      0.240     46.266      0.000        10.612    11.564\n",
       "x4            -2.7646      0.238    -11.600      0.000        -3.238    -2.291\n",
       "x5             3.0308      0.232     13.070      0.000         2.570     3.491\n",
       "==============================================================================\n",
       "Omnibus:                        7.114   Durbin-Watson:                   2.134\n",
       "Prob(Omnibus):                  0.029   Jarque-Bera (JB):                6.748\n",
       "Skew:                           0.521   Prob(JB):                       0.0342\n",
       "Kurtosis:                       3.732   Cond. No.                         1.48\n",
       "==============================================================================\n",
       "\n",
       "Warnings:\n",
       "[1] Standard Errors assume that the covariance matrix of the errors is correctly specified.\n",
       "\"\"\""
      ]
     },
     "execution_count": 5,
     "metadata": {},
     "output_type": "execute_result"
    },
    {
     "data": {
      "image/png": "[encoded data removed]",
      "text/plain": [
       "<matplotlib.figure.Figure at 0x18387588>"
      ]
     },
     "metadata": {},
     "output_type": "display_data"
    }
   ],
   "source": [
    "# Answer 7:\n",
    "data2.x1=(data2.x1-mean(data2.x1))/std(data2.x1)\n",
    "data2.x2=(data2.x2-mean(data2.x2))/std(data2.x2)\n",
    "data2.x3=(data2.x3-mean(data2.x3))/std(data2.x3)\n",
    "data2.x4=(data2.x4-mean(data2.x4))/std(data2.x4)\n",
    "data2.x5=(data2.x5-mean(data2.x5))/std(data2.x5)\n",
    "lm = smf.ols(formula='y ~ x1 + x2 + x3 + x4 + x5', data = data2).fit()\n",
    "lmy = lm.predict(data2)\n",
    "plt.plot(lmy,data2.y,'or')\n",
    "plt.plot(lmy,lmy,'-b') \n",
    "lm.summary()"
   ]
  },
  {
   "cell_type": "markdown",
   "metadata": {},
   "source": [
    "Looking at the cooefficients of the regressors is how we can tell which regressor has the greatest impact on the response variable. x3 has the largest coefficient of 3.03 and hence must be the regressor with the greatest impact on the response variable."
   ]
  },
  {
   "cell_type": "markdown",
   "metadata": {},
   "source": [
    "### Problem 8 (20% credit)\n",
    "Analyzing regression statistics from problem 6 exclude the regressors with insignificant impact. Repeat the regression over the remaining regressors only and report the statistics."
   ]
  },
  {
   "cell_type": "code",
   "execution_count": 6,
   "metadata": {
    "collapsed": false
   },
   "outputs": [
    {
     "data": {
      "text/html": [
       "<table class=\"simpletable\">\n",
       "<caption>OLS Regression Results</caption>\n",
       "<tr>\n",
       "  <th>Dep. Variable:</th>            <td>y</td>        <th>  R-squared:         </th> <td>   0.968</td>\n",
       "</tr>\n",
       "<tr>\n",
       "  <th>Model:</th>                   <td>OLS</td>       <th>  Adj. R-squared:    </th> <td>   0.967</td>\n",
       "</tr>\n",
       "<tr>\n",
       "  <th>Method:</th>             <td>Least Squares</td>  <th>  F-statistic:       </th> <td>   970.7</td>\n",
       "</tr>\n",
       "<tr>\n",
       "  <th>Date:</th>             <td>Sun, 04 Oct 2015</td> <th>  Prob (F-statistic):</th> <td>1.20e-71</td>\n",
       "</tr>\n",
       "<tr>\n",
       "  <th>Time:</th>                 <td>19:43:36</td>     <th>  Log-Likelihood:    </th> <td> -221.77</td>\n",
       "</tr>\n",
       "<tr>\n",
       "  <th>No. Observations:</th>      <td>   100</td>      <th>  AIC:               </th> <td>   451.5</td>\n",
       "</tr>\n",
       "<tr>\n",
       "  <th>Df Residuals:</th>          <td>    96</td>      <th>  BIC:               </th> <td>   462.0</td>\n",
       "</tr>\n",
       "<tr>\n",
       "  <th>Df Model:</th>              <td>     3</td>      <th>                     </th>     <td> </td>   \n",
       "</tr>\n",
       "<tr>\n",
       "  <th>Covariance Type:</th>      <td>nonrobust</td>    <th>                     </th>     <td> </td>   \n",
       "</tr>\n",
       "</table>\n",
       "<table class=\"simpletable\">\n",
       "<tr>\n",
       "      <td></td>         <th>coef</th>     <th>std err</th>      <th>t</th>      <th>P>|t|</th> <th>[95.0% Conf. Int.]</th> \n",
       "</tr>\n",
       "<tr>\n",
       "  <th>Intercept</th> <td>   23.8651</td> <td>    0.227</td> <td>  105.197</td> <td> 0.000</td> <td>   23.415    24.315</td>\n",
       "</tr>\n",
       "<tr>\n",
       "  <th>x3</th>        <td>   11.0360</td> <td>    0.230</td> <td>   47.924</td> <td> 0.000</td> <td>   10.579    11.493</td>\n",
       "</tr>\n",
       "<tr>\n",
       "  <th>x4</th>        <td>   -2.7136</td> <td>    0.232</td> <td>  -11.698</td> <td> 0.000</td> <td>   -3.174    -2.253</td>\n",
       "</tr>\n",
       "<tr>\n",
       "  <th>x5</th>        <td>    3.0437</td> <td>    0.231</td> <td>   13.162</td> <td> 0.000</td> <td>    2.585     3.503</td>\n",
       "</tr>\n",
       "</table>\n",
       "<table class=\"simpletable\">\n",
       "<tr>\n",
       "  <th>Omnibus:</th>       <td> 7.149</td> <th>  Durbin-Watson:     </th> <td>   2.193</td>\n",
       "</tr>\n",
       "<tr>\n",
       "  <th>Prob(Omnibus):</th> <td> 0.028</td> <th>  Jarque-Bera (JB):  </th> <td>   6.872</td>\n",
       "</tr>\n",
       "<tr>\n",
       "  <th>Skew:</th>          <td> 0.510</td> <th>  Prob(JB):          </th> <td>  0.0322</td>\n",
       "</tr>\n",
       "<tr>\n",
       "  <th>Kurtosis:</th>      <td> 3.780</td> <th>  Cond. No.          </th> <td>    1.25</td>\n",
       "</tr>\n",
       "</table>"
      ],
      "text/plain": [
       "<class 'statsmodels.iolib.summary.Summary'>\n",
       "\"\"\"\n",
       "                            OLS Regression Results                            \n",
       "==============================================================================\n",
       "Dep. Variable:                      y   R-squared:                       0.968\n",
       "Model:                            OLS   Adj. R-squared:                  0.967\n",
       "Method:                 Least Squares   F-statistic:                     970.7\n",
       "Date:                Sun, 04 Oct 2015   Prob (F-statistic):           1.20e-71\n",
       "Time:                        19:43:36   Log-Likelihood:                -221.77\n",
       "No. Observations:                 100   AIC:                             451.5\n",
       "Df Residuals:                      96   BIC:                             462.0\n",
       "Df Model:                           3                                         \n",
       "Covariance Type:            nonrobust                                         \n",
       "==============================================================================\n",
       "                 coef    std err          t      P>|t|      [95.0% Conf. Int.]\n",
       "------------------------------------------------------------------------------\n",
       "Intercept     23.8651      0.227    105.197      0.000        23.415    24.315\n",
       "x3            11.0360      0.230     47.924      0.000        10.579    11.493\n",
       "x4            -2.7136      0.232    -11.698      0.000        -3.174    -2.253\n",
       "x5             3.0437      0.231     13.162      0.000         2.585     3.503\n",
       "==============================================================================\n",
       "Omnibus:                        7.149   Durbin-Watson:                   2.193\n",
       "Prob(Omnibus):                  0.028   Jarque-Bera (JB):                6.872\n",
       "Skew:                           0.510   Prob(JB):                       0.0322\n",
       "Kurtosis:                       3.780   Cond. No.                         1.25\n",
       "==============================================================================\n",
       "\n",
       "Warnings:\n",
       "[1] Standard Errors assume that the covariance matrix of the errors is correctly specified.\n",
       "\"\"\""
      ]
     },
     "execution_count": 6,
     "metadata": {},
     "output_type": "execute_result"
    },
    {
     "data": {
      "image/png": "[encoded data removed]",
      "text/plain": [
       "<matplotlib.figure.Figure at 0x1875dd30>"
      ]
     },
     "metadata": {},
     "output_type": "display_data"
    }
   ],
   "source": [
    "#After trying out a few combintions I found that the best model is the one in which x1 and x2 are excluded.\n",
    "lm = smf.ols(formula='y ~ x3 + x4 + x5', data = data2).fit()\n",
    "lmy = lm.predict(data2)\n",
    "plt.plot(lmy,data2.y,'or')\n",
    "plt.plot(lmy,lmy,'-b') \n",
    "lm.summary()"
   ]
  },
  {
   "cell_type": "code",
   "execution_count": 7,
   "metadata": {
    "collapsed": false
   },
   "outputs": [
    {
     "name": "stdout",
     "output_type": "stream",
     "text": [
      "0.974061761696\n"
     ]
    },
    {
     "data": {
      "image/png": "[encoded data removed]",
      "text/plain": [
       "<matplotlib.figure.Figure at 0x18665f98>"
      ]
     },
     "metadata": {},
     "output_type": "display_data"
    }
   ],
   "source": [
    "#Validation of the model\n",
    "lm2 = smf.ols(formula='y ~ x3+x4+x5', data = data2).fit()\n",
    "lm2.summary()\n",
    "lmy2 = lm2.predict(validation)\n",
    "plt.plot(lmy2,validation.y,'or')\n",
    "plt.plot(lmy2,lmy2,'-b')\n",
    "R2=1-sum(pow(lmy2-validation.y,2))/sum(pow(validation.y-mean(validation.y),2))\n",
    "print(R2)"
   ]
  },
  {
   "cell_type": "markdown",
   "metadata": {},
   "source": [
    "### Extra credit assignment (40% of credit to be applied toward this or further homeworks )\n",
    "\n",
    "Using the real estate data from the lab, train and validate the multivariate linear models for predicting sales price within each zip code for the: a) single-residence, b) multiapartment houses. Consider only the zip codes having more than 500 houses to consider. Train the model over as many relevant regressors as you can (including dummy-variables expressing impact of non-real valued factors or non-linear impacts) and perform feature selection over the validaton set. This is a custom approach - feel free to frame it as you like aiming for the best possible performance over the validation sets. Report the final training and validation set R2's as a table (zip, size, R2) as well as a spatial visualization (just the validation R2 over zip code's lat-long with colors indicating the R2 value). "
   ]
  }
 ],
 "metadata": {
  "kernelspec": {
   "display_name": "Python 2",
   "language": "python",
   "name": "python2"
  },
  "language_info": {
   "codemirror_mode": {
    "name": "ipython",
    "version": 2
   },
   "file_extension": ".py",
   "mimetype": "text/x-python",
   "name": "python",
   "nbconvert_exporter": "python",
   "pygments_lexer": "ipython2",
   "version": "2.7.10"
  }
 },
 "nbformat": 4,
 "nbformat_minor": 0
}
