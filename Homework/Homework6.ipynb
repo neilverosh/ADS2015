{
 "cells": [
  {
   "cell_type": "markdown",
   "metadata": {},
   "source": [
    "# Homework 6"
   ]
  },
  {
   "cell_type": "markdown",
   "metadata": {},
   "source": [
    "### Problem 1 (5% credit)\n",
    "Describe in your own words difference between prior and posterior distribution"
   ]
  },
  {
   "cell_type": "markdown",
   "metadata": {},
   "source": [
    "####Answer 1: \n",
    "Prior distribution incorporates any specific(subjective) beliefs you have about the experiment based on past experieces. If you have no specific belief you will take an uninformative prior (uniform distribution).\n",
    "\n",
    "Posterior distribution is calculated based on the prior and depends on it. Once we conduct the experiment we modify our prior which now becomes the posterior."
   ]
  },
  {
   "cell_type": "markdown",
   "metadata": {},
   "source": [
    "### Problem 2 (5% credit)\n",
    "Describe in your own words what is the conjugate distribution for a given model"
   ]
  },
  {
   "cell_type": "markdown",
   "metadata": {},
   "source": [
    "####Answer 2:\n",
    "\n",
    "If the prior distribution an posterior distribution come from the same family of distribution (example - if they are both beta distributions) then they are called conjugate distributions."
   ]
  },
  {
   "cell_type": "markdown",
   "metadata": {},
   "source": [
    "### Problem 3 (15% credit)\n",
    "\n",
    "Consider an experiment with tossing a coin that gave 20 heads and 30 tails.\n",
    "\n",
    "a) Describe (analytically) the posterior distribution for the probability $\\alpha$ of getting a coin heads if the prior distribution is a non-informative uniform distribution.\n",
    "\n",
    "b) Describe (analytically) the posterior distribution for the probability $\\alpha$ of getting a coin heads if the prior distribution was $\\alpha\\sim B(3,1)$.\n",
    "\n",
    "c) Visually compare (python plots) the resulting posteriors from points a) and b)."
   ]
  },
  {
   "cell_type": "markdown",
   "metadata": {},
   "source": [
    "#### Answer 3\n",
    "a) B(21,31) - each observed heads adds 1 to the first parameter of $B$, each observed tails - to the second. We start from a uniform distribution B(1,1).\n",
    "\n",
    "b) If we start from a prior B(3,1) then the posterior is going to be B(3+20,1+30)=B(23,31)"
   ]
  },
  {
   "cell_type": "code",
   "execution_count": 2,
   "metadata": {
    "collapsed": false
   },
   "outputs": [
    {
     "name": "stdout",
     "output_type": "stream",
     "text": [
      "Populating the interactive namespace from numpy and matplotlib\n"
     ]
    }
   ],
   "source": [
    "import numpy as np\n",
    "import pandas as pd\n",
    "from scipy import stats\n",
    "import matplotlib.pyplot as plt\n",
    "import statsmodels.formula.api as smf\n",
    "import pymc3 as pm\n",
    "%pylab inline\n",
    "\n",
    "import os\n",
    "\n",
    "import json\n",
    "s = json.load( open(os.getenv ('PUI2015')+\"/plotformat.json\") )\n",
    "plt.rcParams.update(s)"
   ]
  },
  {
   "cell_type": "markdown",
   "metadata": {},
   "source": [
    "####(c)"
   ]
  },
  {
   "cell_type": "code",
   "execution_count": 3,
   "metadata": {
    "collapsed": false
   },
   "outputs": [
    {
     "name": "stdout",
     "output_type": "stream",
     "text": [
      "Posterior Distribution with mean and variance for 3(a) 0.403846153846 0.236126224157\n",
      "Posterior Distribution with mean and variance for 3(b) 0.425925925926 0.23998653652\n"
     ]
    },
    {
     "data": {
      "image/png": "[encoded data removed]",
      "text/plain": [
       "<matplotlib.figure.Figure at 0x192271d0>"
      ]
     },
     "metadata": {},
     "output_type": "display_data"
    }
   ],
   "source": [
    "from scipy.stats import beta\n",
    "a1 = 21.0; a2 = 31.0; b1 = 23.0; b2 =31.0\n",
    "x = np.linspace(0.01, 1, 100)\n",
    "y1 = beta.pdf(x, a1, a2)\n",
    "y2 = beta.pdf(x, b1, b2)\n",
    "\n",
    "mean1 = a1/(a1+a2)\n",
    "mean2 = b1/(b1+b2)\n",
    "var1 = (a1*a2)/((a1+a2)**2 + (a1+a2+1))\n",
    "var2 = (b1*b2)/((b1+b2)**2 + (b1+b2+1))\n",
    "\n",
    "plt.plot(x,y1, label = 'Visualisation for 3(a)')\n",
    "plt.plot(x,y2, label = 'Visualisation for 3(b)')\n",
    "plt.legend()\n",
    "\n",
    "print 'Posterior Distribution with mean and variance for 3(a)',mean1,var1\n",
    "print 'Posterior Distribution with mean and variance for 3(b)',mean2,var2"
   ]
  },
  {
   "cell_type": "code",
   "execution_count": 4,
   "metadata": {
    "collapsed": true
   },
   "outputs": [],
   "source": [
    "# data for problem 4\n",
    "yn=np.array([ 0.12700431,  1.71729997, -0.12607466,  1.00332543,  1.12533601,\n",
    "       -1.48207777, -1.01622525, -1.00421556, -0.84979125, -0.6707679 ])"
   ]
  },
  {
   "cell_type": "markdown",
   "metadata": {},
   "source": [
    "### Problem 4 (15% credit)\n",
    "\n",
    "Consider fitting a normal distribution with a unit variance to a set of points above.\n",
    "\n",
    "a) Find and visualize the posterior distribution for the probability mean $\\mu$ for an uninformative prior belief.\n",
    "\n",
    "b) Find and visualize the posterior distribution for the probability mean $\\mu$ for a prior $\\mu\\sim {\\cal N}(0,1)$."
   ]
  },
  {
   "cell_type": "markdown",
   "metadata": {},
   "source": [
    "####Answer 4(a)"
   ]
  },
  {
   "cell_type": "code",
   "execution_count": 5,
   "metadata": {
    "collapsed": false
   },
   "outputs": [
    {
     "name": "stdout",
     "output_type": "stream",
     "text": [
      "Posterior distr = N(-0.106926060909,0.0909090909091)\n"
     ]
    },
    {
     "data": {
      "image/png": "[encoded data removed]",
      "text/plain": [
       "<matplotlib.figure.Figure at 0x193eebe0>"
      ]
     },
     "metadata": {},
     "output_type": "display_data"
    }
   ],
   "source": [
    "N=len(yn)\n",
    "sigma2=1\n",
    "\n",
    "#parameters of the uninformative prior\n",
    "mu_prior=0\n",
    "sigma2_prior=1\n",
    "#estimate parameters of the posterior\n",
    "sigma2_mu=(N/sigma2+1/sigma2_prior)**-1\n",
    "mu_est=(np.sum(yn)/sigma2+mu_prior/sigma2_prior)*sigma2_mu\n",
    "\n",
    "dist=stats.norm(loc=mu_est,scale=sigma2_mu**0.5)\n",
    "dist_prior=stats.uniform(loc=mu_prior,scale=sigma2_prior**0.5)\n",
    "\n",
    "#Plotting\n",
    "x=np.linspace(-3,3,100)\n",
    "plt.plot(x,dist_prior.pdf(x),color='g')\n",
    "plt.plot(x,dist.pdf(x),color='b')\n",
    "plt.axvline(mu_est, color='r', ls='--', lw=2.0)\n",
    "print('Posterior distr = N({0},{1})'.format(mu_est,sigma2_mu))"
   ]
  },
  {
   "cell_type": "markdown",
   "metadata": {},
   "source": [
    "####Answer 4(b)"
   ]
  },
  {
   "cell_type": "code",
   "execution_count": 6,
   "metadata": {
    "collapsed": false
   },
   "outputs": [
    {
     "name": "stdout",
     "output_type": "stream",
     "text": [
      "Posterior distr = N(-0.106926060909,0.0909090909091)\n"
     ]
    },
    {
     "data": {
      "image/png": "[encoded data removed]",
      "text/plain": [
       "<matplotlib.figure.Figure at 0x19790358>"
      ]
     },
     "metadata": {},
     "output_type": "display_data"
    }
   ],
   "source": [
    "N=len(yn)\n",
    "sigma2=1 \n",
    "\n",
    "#Parameters of the normal prior\n",
    "mu_prior=0\n",
    "sigma2_prior=1\n",
    "\n",
    "#Estimate parameters of the posterior\n",
    "sigma2_mu=(N/sigma2+1/sigma2_prior)**-1\n",
    "mu_est=(np.sum(yn)/sigma2+mu_prior/sigma2_prior)*sigma2_mu\n",
    "dist=stats.norm(loc=mu_est,scale=sigma2_mu**0.5)\n",
    "dist_prior=stats.norm(loc=mu_prior,scale=sigma2_prior**0.5)\n",
    "\n",
    "#Plotting\n",
    "x=np.linspace(-3,3,100)\n",
    "plt.plot(x,dist_prior.pdf(x),color='g')\n",
    "plt.plot(x,dist.pdf(x),color='b')\n",
    "plt.axvline(mu_est, color='r', ls='--', lw=2.0)\n",
    "print('Posterior distr = N({0},{1})'.format(mu_est,sigma2_mu))"
   ]
  },
  {
   "cell_type": "code",
   "execution_count": 7,
   "metadata": {
    "collapsed": false
   },
   "outputs": [
    {
     "data": {
      "text/html": [
       "<div>\n",
       "<table border=\"1\" class=\"dataframe\">\n",
       "  <thead>\n",
       "    <tr style=\"text-align: right;\">\n",
       "      <th></th>\n",
       "      <th>x</th>\n",
       "      <th>y</th>\n",
       "    </tr>\n",
       "  </thead>\n",
       "  <tbody>\n",
       "    <tr>\n",
       "      <th>0</th>\n",
       "      <td>-4.294827</td>\n",
       "      <td>-2.666893</td>\n",
       "    </tr>\n",
       "    <tr>\n",
       "      <th>1</th>\n",
       "      <td>-4.354712</td>\n",
       "      <td>-2.555730</td>\n",
       "    </tr>\n",
       "    <tr>\n",
       "      <th>2</th>\n",
       "      <td>-5.115582</td>\n",
       "      <td>-4.207329</td>\n",
       "    </tr>\n",
       "    <tr>\n",
       "      <th>3</th>\n",
       "      <td>-6.635222</td>\n",
       "      <td>-2.546837</td>\n",
       "    </tr>\n",
       "    <tr>\n",
       "      <th>4</th>\n",
       "      <td>-6.241318</td>\n",
       "      <td>-5.326986</td>\n",
       "    </tr>\n",
       "  </tbody>\n",
       "</table>\n",
       "</div>"
      ],
      "text/plain": [
       "          x         y\n",
       "0 -4.294827 -2.666893\n",
       "1 -4.354712 -2.555730\n",
       "2 -5.115582 -4.207329\n",
       "3 -6.635222 -2.546837\n",
       "4 -6.241318 -5.326986"
      ]
     },
     "execution_count": 7,
     "metadata": {},
     "output_type": "execute_result"
    }
   ],
   "source": [
    "# data for problems 5,6\n",
    "data = pd.read_csv( 'https://serv.cusp.nyu.edu/files/ADS-2015/MorningSection/homework6/H6.csv' , index_col=0 )\n",
    "data.head()"
   ]
  },
  {
   "cell_type": "markdown",
   "metadata": {},
   "source": [
    "### Problem 5 (20% credit)\n",
    "Given the data above find and visualize a posterior distribution for a univariate linear regression's $y\\sim w x$ (without intercept) with a given unit variance $\\sigma^2=1$, given the prior $w\\sim {\\cal} N(0,1)$. Find 95% and 99.9% confidence intervals for $w$ as well as the probability of having $w\\in [0.7,1]$. Compare with a standard least-square regression fit (ignoring the prior)."
   ]
  },
  {
   "cell_type": "markdown",
   "metadata": {},
   "source": [
    "####Answer 5"
   ]
  },
  {
   "cell_type": "code",
   "execution_count": 8,
   "metadata": {
    "collapsed": false
   },
   "outputs": [
    {
     "name": "stdout",
     "output_type": "stream",
     "text": [
      "                            OLS Regression Results                            \n",
      "==============================================================================\n",
      "Dep. Variable:                      y   R-squared:                       0.948\n",
      "Model:                            OLS   Adj. R-squared:                  0.948\n",
      "Method:                 Least Squares   F-statistic:                     1817.\n",
      "Date:                Wed, 28 Oct 2015   Prob (F-statistic):           1.64e-65\n",
      "Time:                        00:37:37   Log-Likelihood:                -134.34\n",
      "No. Observations:                 100   AIC:                             270.7\n",
      "Df Residuals:                      99   BIC:                             273.3\n",
      "Df Model:                           1                                         \n",
      "Covariance Type:            nonrobust                                         \n",
      "==============================================================================\n",
      "                 coef    std err          t      P>|t|      [95.0% Conf. Int.]\n",
      "------------------------------------------------------------------------------\n",
      "x              0.7305      0.017     42.631      0.000         0.697     0.765\n",
      "==============================================================================\n",
      "Omnibus:                        0.213   Durbin-Watson:                   2.089\n",
      "Prob(Omnibus):                  0.899   Jarque-Bera (JB):                0.022\n",
      "Skew:                          -0.020   Prob(JB):                        0.989\n",
      "Kurtosis:                       3.061   Cond. No.                         1.00\n",
      "==============================================================================\n",
      "\n",
      "Warnings:\n",
      "[1] Standard Errors assume that the covariance matrix of the errors is correctly specified.\n",
      "Posterior distr = N(0.730326912942,0.0170481149317^2)\n"
     ]
    },
    {
     "data": {
      "text/plain": [
       "<matplotlib.lines.Line2D at 0x19c37c88>"
      ]
     },
     "execution_count": 8,
     "metadata": {},
     "output_type": "execute_result"
    },
    {
     "data": {
      "image/png": "[encoded data removed]",
      "text/plain": [
       "<matplotlib.figure.Figure at 0x19bc80f0>"
      ]
     },
     "metadata": {},
     "output_type": "display_data"
    }
   ],
   "source": [
    "w_prior = 0\n",
    "sigma2_prior = 1 \n",
    "\n",
    "#Regression \n",
    "model1 = smf.ols(formula='y ~ x -1', data = data).fit()\n",
    "print(model1.summary())\n",
    "\n",
    "sigma2 = np.mean((data.y-model1.predict(data))**2)\n",
    "\n",
    "#estimate parameters of the posterior\n",
    "sigma2_w = (sum(data.x**2)/sigma2+1/sigma2_prior)**-1\n",
    "w_est = (sum(data.x*data.y)/sigma2+w_prior/sigma2_prior)*sigma2_w\n",
    "dist = stats.norm(loc=w_est,scale=sigma2_w**0.5)\n",
    "dist_prior = stats.norm(loc=w_prior,scale=sigma2_prior**0.5)\n",
    "print('Posterior distr = N({0},{1}^2)'.format(w_est,sigma2_w**0.5))\n",
    "\n",
    "#Plotting\n",
    "x=np.linspace(0,1.4,200)\n",
    "plt.figure(figsize = (14,5))\n",
    "plt.plot(x,dist_prior.pdf(x),color='g')\n",
    "plt.plot(x,dist.pdf(x),color='b')\n",
    "plt.axvline(w_est, color='r', ls='--', lw=2.0)"
   ]
  },
  {
   "cell_type": "code",
   "execution_count": 9,
   "metadata": {
    "collapsed": false
   },
   "outputs": [
    {
     "name": "stdout",
     "output_type": "stream",
     "text": [
      " [-----------------100%-----------------] 1000 of 1000 complete in 9.8 secSample mean=0.730530839294,std=0.128720601698\n",
      "95% confidence interval: 0.69679109103-0.762715179721\n",
      "99% confidence interval: 0.673813246515-0.796431028851\n",
      "Probability of having w within [0.7;1]: 0.965\n"
     ]
    },
    {
     "data": {
      "image/png": "[encoded data removed]",
      "text/plain": [
       "<matplotlib.figure.Figure at 0x19853128>"
      ]
     },
     "metadata": {},
     "output_type": "display_data"
    }
   ],
   "source": [
    "with pm.Model() as model1: #introduce a PyMC3 simulation framework\n",
    "    #for a normal prior\n",
    "    w = pm.Normal('w', mu=0, sd=1) \n",
    "    #set up the likelohood function of the model\n",
    "    y_est = w * data.x\n",
    "    likelihood = pm.Normal('y', mu=y_est, sd=sigma2**0.5, observed=data.y)\n",
    "    #as well as the model parameters\n",
    "    start = pm.find_MAP() #use the Maximum a Posteriori (MAP) values as starting values for the MCMC sampling.\n",
    "    step = pm.NUTS(state=start)\n",
    "    trace = pm.sample(1000, step, start=start, progressbar=True) #perform 1000 iteration saving them to <trace>\n",
    "    \n",
    "sample=trace.w[0:1000]\n",
    "#output sample parameters\n",
    "w_est=np.mean(sample) \n",
    "sigma_w=np.std(sample)\n",
    "print('Sample mean={},std={}'.format(w_est,sigma_w**0.5))\n",
    "\n",
    "plt.hist(sample,25);\n",
    "\n",
    "ci95=np.percentile(sample, (2.5, 97.5))\n",
    "print('95% confidence interval: {0}-{1}'.format(ci95[0],ci95[1]))\n",
    "ci99=np.percentile(sample, (0.1, 99.9))\n",
    "print('99% confidence interval: {0}-{1}'.format(ci99[0],ci99[1]))\n",
    "\n",
    "intprob=sum((sample>=0.7)&(sample<=1))/1.0/len(sample)\n",
    "print('Probability of having w within [0.7;1]: {0}'.format(intprob))"
   ]
  },
  {
   "cell_type": "markdown",
   "metadata": {},
   "source": [
    "#####The mean (as well as standard deviation) of posterior from both the linear regression and the Bayesian model are very close having values 0.7303 and 0.7305 respectively. The confidence intervals and probability of w between 0.7 and 1 are displayed above."
   ]
  },
  {
   "cell_type": "markdown",
   "metadata": {},
   "source": [
    "### Problem 6 (30% credit)\n",
    "\n",
    "Do the same as for the problem 5 but for a uniform prior $w\\sim Unif(0.5,1)$ (performing a numeric estimate with 1000 iteration, considering only last 800 of them). "
   ]
  },
  {
   "cell_type": "markdown",
   "metadata": {},
   "source": [
    "####Answer 6"
   ]
  },
  {
   "cell_type": "code",
   "execution_count": 10,
   "metadata": {
    "collapsed": false
   },
   "outputs": [
    {
     "name": "stdout",
     "output_type": "stream",
     "text": [
      "                            OLS Regression Results                            \n",
      "==============================================================================\n",
      "Dep. Variable:                      y   R-squared:                       0.948\n",
      "Model:                            OLS   Adj. R-squared:                  0.948\n",
      "Method:                 Least Squares   F-statistic:                     1817.\n",
      "Date:                Wed, 28 Oct 2015   Prob (F-statistic):           1.64e-65\n",
      "Time:                        00:38:55   Log-Likelihood:                -134.34\n",
      "No. Observations:                 100   AIC:                             270.7\n",
      "Df Residuals:                      99   BIC:                             273.3\n",
      "Df Model:                           1                                         \n",
      "Covariance Type:            nonrobust                                         \n",
      "==============================================================================\n",
      "                 coef    std err          t      P>|t|      [95.0% Conf. Int.]\n",
      "------------------------------------------------------------------------------\n",
      "x              0.7305      0.017     42.631      0.000         0.697     0.765\n",
      "==============================================================================\n",
      "Omnibus:                        0.213   Durbin-Watson:                   2.089\n",
      "Prob(Omnibus):                  0.899   Jarque-Bera (JB):                0.022\n",
      "Skew:                          -0.020   Prob(JB):                        0.989\n",
      "Kurtosis:                       3.061   Cond. No.                         1.00\n",
      "==============================================================================\n",
      "\n",
      "Warnings:\n",
      "[1] Standard Errors assume that the covariance matrix of the errors is correctly specified.\n",
      "Posterior distr = N(0.730472232053,0.0170481149317^2)\n"
     ]
    },
    {
     "data": {
      "text/plain": [
       "<matplotlib.lines.Line2D at 0x1b875be0>"
      ]
     },
     "execution_count": 10,
     "metadata": {},
     "output_type": "execute_result"
    },
    {
     "data": {
      "image/png": "[encoded data removed]",
      "text/plain": [
       "<matplotlib.figure.Figure at 0x1ba7fc50>"
      ]
     },
     "metadata": {},
     "output_type": "display_data"
    }
   ],
   "source": [
    "w_prior=0.5\n",
    "sigma2_prior=1 \n",
    "\n",
    "#Regression \n",
    "model2 = smf.ols(formula='y ~ x -1', data = data).fit()\n",
    "print(model2.summary())\n",
    "\n",
    "sigma2=np.mean((data.y-model2.predict(data))**2)\n",
    "\n",
    "#estimate parameters of the posterior\n",
    "sigma2_w=(sum(data.x**2)/sigma2+1/sigma2_prior)**-1\n",
    "w_est=(sum(data.x*data.y)/sigma2+w_prior/sigma2_prior)*sigma2_w\n",
    "dist=stats.norm(loc=w_est,scale=sigma2_w**0.5)\n",
    "dist_prior=stats.uniform(loc=w_prior,scale=sigma2_prior**0.5)\n",
    "print('Posterior distr = N({0},{1}^2)'.format(w_est,sigma2_w**0.5))\n",
    "\n",
    "#Plotting\n",
    "x=np.linspace(0.4,1,200)\n",
    "plt.figure(figsize = (14,5))\n",
    "plt.plot(x,dist_prior.pdf(x),color='g')\n",
    "plt.plot(x,dist.pdf(x),color='b')\n",
    "plt.axvline(w_est, color='r', ls='--', lw=2.0)"
   ]
  },
  {
   "cell_type": "code",
   "execution_count": 11,
   "metadata": {
    "collapsed": false
   },
   "outputs": [
    {
     "name": "stdout",
     "output_type": "stream",
     "text": [
      " [-----------------100%-----------------] 1000 of 1000 complete in 12.1 secSample mean=0.730421549133,std=0.130327765552\n",
      "95% confidence interval: 0.695358202546-0.763696643803\n",
      "99% confidence interval: 0.671769773128-0.797399038873\n",
      "Probability of having w within [0.7;1]: 0.9625\n"
     ]
    },
    {
     "data": {
      "image/png": "[encoded data removed]",
      "text/plain": [
       "<matplotlib.figure.Figure at 0x1b9281d0>"
      ]
     },
     "metadata": {},
     "output_type": "display_data"
    }
   ],
   "source": [
    "with pm.Model() as model2: #introduce a PyMC3 simulation framework\n",
    "    #for a uniform prior\n",
    "    w = pm.Uniform('w', lower=0.5, upper=1) \n",
    "    #set up the likelohood function of the model\n",
    "    y_est = w * data.x\n",
    "    likelihood = pm.Normal('y', mu=y_est, sd=sigma2**0.5, observed=data.y)\n",
    "    #as well as the model parameters\n",
    "    start = pm.find_MAP() #use the Maximum a Posteriori (MAP) values as starting values for the MCMC sampling.\n",
    "    step = pm.NUTS(state=start)\n",
    "    trace2 = pm.sample(1000, step, start=start, progressbar=True) #perform 1000 iteration saving them to <trace>\n",
    "    \n",
    "sample=trace.w[200:1000] #ignore first 200 burn in steps\n",
    "#output sample parameters\n",
    "w_est=np.mean(sample) \n",
    "sigma_w=np.std(sample)\n",
    "print('Sample mean={},std={}'.format(w_est,sigma_w**0.5))\n",
    "\n",
    "plt.hist(sample,25);\n",
    "\n",
    "ci95=np.percentile(sample, (2.5, 97.5))\n",
    "print('95% confidence interval: {0}-{1}'.format(ci95[0],ci95[1]))\n",
    "ci99=np.percentile(sample, (0.1, 99.9))\n",
    "print('99% confidence interval: {0}-{1}'.format(ci99[0],ci99[1]))\n",
    "\n",
    "intprob=sum((sample>=0.7)&(sample<=1))/1.0/len(sample)\n",
    "print('Probability of having w within [0.7;1]: {0}'.format(intprob))"
   ]
  }
 ],
 "metadata": {
  "kernelspec": {
   "display_name": "Python 2",
   "language": "python",
   "name": "python2"
  },
  "language_info": {
   "codemirror_mode": {
    "name": "ipython",
    "version": 2
   },
   "file_extension": ".py",
   "mimetype": "text/x-python",
   "name": "python",
   "nbconvert_exporter": "python",
   "pygments_lexer": "ipython2",
   "version": "2.7.10"
  }
 },
 "nbformat": 4,
 "nbformat_minor": 0
}
