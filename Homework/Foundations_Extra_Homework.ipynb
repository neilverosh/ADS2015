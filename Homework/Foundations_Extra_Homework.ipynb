{
 "cells": [
  {
   "cell_type": "markdown",
   "metadata": {},
   "source": [
    "# Extracredit homework for the foundations module"
   ]
  },
  {
   "cell_type": "code",
   "execution_count": 1,
   "metadata": {
    "collapsed": false
   },
   "outputs": [
    {
     "name": "stdout",
     "output_type": "stream",
     "text": [
      "Populating the interactive namespace from numpy and matplotlib\n"
     ]
    }
   ],
   "source": [
    "#necessary libraries to use\n",
    "\n",
    "import numpy as np\n",
    "import pandas as pd\n",
    "import datetime\n",
    "import matplotlib.pyplot as plt\n",
    "import scipy\n",
    "from scipy import stats\n",
    "\n",
    "%pylab inline\n",
    "\n",
    "from matplotlib import pyplot as plt\n",
    "from mpl_toolkits.mplot3d import Axes3D\n",
    "from mpl_toolkits.mplot3d import proj3d\n",
    "import statsmodels.formula.api as smf\n",
    "from sklearn.cluster import KMeans\n",
    "from sklearn.metrics import silhouette_score"
   ]
  },
  {
   "cell_type": "code",
   "execution_count": 2,
   "metadata": {
    "collapsed": false
   },
   "outputs": [],
   "source": [
    "#loading the data for assignments 1-3\n",
    "train=pd.read_csv( 'https://serv.cusp.nyu.edu/files/ADS-2015/MorningSection/extraHomework/HE11.csv' , index_col=0 )\n",
    "test=pd.read_csv( 'https://serv.cusp.nyu.edu/files/ADS-2015/MorningSection/extraHomework/HE12.csv' , index_col=0 )"
   ]
  },
  {
   "cell_type": "code",
   "execution_count": 3,
   "metadata": {
    "collapsed": false,
    "scrolled": true
   },
   "outputs": [
    {
     "data": {
      "text/html": [
       "<div>\n",
       "<table border=\"1\" class=\"dataframe\">\n",
       "  <thead>\n",
       "    <tr style=\"text-align: right;\">\n",
       "      <th></th>\n",
       "      <th>X1</th>\n",
       "      <th>X2</th>\n",
       "      <th>X3</th>\n",
       "      <th>X4</th>\n",
       "      <th>X5</th>\n",
       "      <th>X6</th>\n",
       "      <th>Y</th>\n",
       "    </tr>\n",
       "  </thead>\n",
       "  <tbody>\n",
       "    <tr>\n",
       "      <th>0</th>\n",
       "      <td>-0.204378</td>\n",
       "      <td>0.245717</td>\n",
       "      <td>-0.878906</td>\n",
       "      <td>0.163081</td>\n",
       "      <td>0.253710</td>\n",
       "      <td>-0.545039</td>\n",
       "      <td>-2.704255</td>\n",
       "    </tr>\n",
       "    <tr>\n",
       "      <th>1</th>\n",
       "      <td>1.869868</td>\n",
       "      <td>1.440863</td>\n",
       "      <td>1.199019</td>\n",
       "      <td>0.974374</td>\n",
       "      <td>-0.028469</td>\n",
       "      <td>0.575294</td>\n",
       "      <td>7.741288</td>\n",
       "    </tr>\n",
       "    <tr>\n",
       "      <th>2</th>\n",
       "      <td>-0.506132</td>\n",
       "      <td>-2.694264</td>\n",
       "      <td>-0.293922</td>\n",
       "      <td>0.574003</td>\n",
       "      <td>-0.313488</td>\n",
       "      <td>-0.938216</td>\n",
       "      <td>-26.717170</td>\n",
       "    </tr>\n",
       "    <tr>\n",
       "      <th>3</th>\n",
       "      <td>-1.345176</td>\n",
       "      <td>-2.071063</td>\n",
       "      <td>-0.329784</td>\n",
       "      <td>-1.542241</td>\n",
       "      <td>-1.795052</td>\n",
       "      <td>-0.375164</td>\n",
       "      <td>5.346446</td>\n",
       "    </tr>\n",
       "    <tr>\n",
       "      <th>4</th>\n",
       "      <td>-1.016686</td>\n",
       "      <td>-3.056112</td>\n",
       "      <td>-0.725377</td>\n",
       "      <td>-0.135869</td>\n",
       "      <td>-0.464763</td>\n",
       "      <td>0.490638</td>\n",
       "      <td>-67.189117</td>\n",
       "    </tr>\n",
       "  </tbody>\n",
       "</table>\n",
       "</div>"
      ],
      "text/plain": [
       "         X1        X2        X3        X4        X5        X6          Y\n",
       "0 -0.204378  0.245717 -0.878906  0.163081  0.253710 -0.545039  -2.704255\n",
       "1  1.869868  1.440863  1.199019  0.974374 -0.028469  0.575294   7.741288\n",
       "2 -0.506132 -2.694264 -0.293922  0.574003 -0.313488 -0.938216 -26.717170\n",
       "3 -1.345176 -2.071063 -0.329784 -1.542241 -1.795052 -0.375164   5.346446\n",
       "4 -1.016686 -3.056112 -0.725377 -0.135869 -0.464763  0.490638 -67.189117"
      ]
     },
     "execution_count": 3,
     "metadata": {},
     "output_type": "execute_result"
    }
   ],
   "source": [
    "train.head()"
   ]
  },
  {
   "cell_type": "markdown",
   "metadata": {},
   "source": [
    "### Problem 1 (20% credit)\n",
    "Perform a multi-variate linear regression given the data provided over the training set (without intercept). Report the statistics and analyze p-values for the regressors. Apply the model to the validation set, compute the R2."
   ]
  },
  {
   "cell_type": "markdown",
   "metadata": {},
   "source": [
    "###Solution 1"
   ]
  },
  {
   "cell_type": "code",
   "execution_count": 4,
   "metadata": {
    "collapsed": false
   },
   "outputs": [
    {
     "name": "stdout",
     "output_type": "stream",
     "text": [
      "                            OLS Regression Results                            \n",
      "==============================================================================\n",
      "Dep. Variable:                      Y   R-squared:                       0.943\n",
      "Model:                            OLS   Adj. R-squared:                  0.858\n",
      "Method:                 Least Squares   F-statistic:                     11.08\n",
      "Date:                Fri, 20 Nov 2015   Prob (F-statistic):             0.0179\n",
      "Time:                        17:29:10   Log-Likelihood:                -33.387\n",
      "No. Observations:                  10   AIC:                             78.77\n",
      "Df Residuals:                       4   BIC:                             80.59\n",
      "Df Model:                           6                                         \n",
      "Covariance Type:            nonrobust                                         \n",
      "==============================================================================\n",
      "                 coef    std err          t      P>|t|      [95.0% Conf. Int.]\n",
      "------------------------------------------------------------------------------\n",
      "X1           -16.4457     19.341     -0.850      0.443       -70.146    37.255\n",
      "X2            24.3603      8.790      2.772      0.050        -0.043    48.764\n",
      "X3             9.4455      4.855      1.945      0.124        -4.034    22.925\n",
      "X4            10.2073     18.853      0.541      0.617       -42.137    62.552\n",
      "X5           -29.9221     12.592     -2.376      0.076       -64.883     5.039\n",
      "X6           -15.0839      8.330     -1.811      0.144       -38.213     8.045\n",
      "==============================================================================\n",
      "Omnibus:                        1.696   Durbin-Watson:                   1.870\n",
      "Prob(Omnibus):                  0.428   Jarque-Bera (JB):                1.158\n",
      "Skew:                           0.649   Prob(JB):                        0.560\n",
      "Kurtosis:                       1.954   Cond. No.                         19.3\n",
      "==============================================================================\n",
      "\n",
      "Warnings:\n",
      "[1] Standard Errors assume that the covariance matrix of the errors is correctly specified.\n"
     ]
    },
    {
     "name": "stderr",
     "output_type": "stream",
     "text": [
      "C:\\Users\\Neil\\Anaconda\\lib\\site-packages\\scipy\\stats\\stats.py:1233: UserWarning: kurtosistest only valid for n>=20 ... continuing anyway, n=10\n",
      "  int(n))\n"
     ]
    },
    {
     "data": {
      "text/plain": [
       "[<matplotlib.lines.Line2D at 0x3d2b128>]"
      ]
     },
     "execution_count": 4,
     "metadata": {},
     "output_type": "execute_result"
    },
    {
     "data": {
      "image/png": "[encoded data removed]",
      "text/plain": [
       "<matplotlib.figure.Figure at 0x182a0e10>"
      ]
     },
     "metadata": {},
     "output_type": "display_data"
    }
   ],
   "source": [
    "#Regression over training set\n",
    "\n",
    "lm = smf.ols(formula='Y ~ X1+X2+X3+X4+X5+X6-1', data = train).fit()\n",
    "print(lm.summary())\n",
    "lmy1 = lm.predict(train)\n",
    "plt.plot(lmy1,train.Y,'or')\n",
    "plt.plot(lmy1,lmy1,'-b') "
   ]
  },
  {
   "cell_type": "markdown",
   "metadata": {},
   "source": [
    "##### The p vlues are generally quite bad except for maybe X2 and X5."
   ]
  },
  {
   "cell_type": "code",
   "execution_count": 5,
   "metadata": {
    "collapsed": false
   },
   "outputs": [
    {
     "name": "stdout",
     "output_type": "stream",
     "text": [
      "The R-sqaured over validation is 0.358197796198\n"
     ]
    },
    {
     "data": {
      "image/png": "[encoded data removed]",
      "text/plain": [
       "<matplotlib.figure.Figure at 0x182e8ef0>"
      ]
     },
     "metadata": {},
     "output_type": "display_data"
    }
   ],
   "source": [
    "#Regression over validation set\n",
    "\n",
    "lmy2 = lm.predict(test)\n",
    "plt.plot(lmy2,test.Y,'or')\n",
    "plt.plot(lmy2,lmy2,'-b')\n",
    "R2=1-sum(pow(lmy2-test.Y,2))/sum(pow(test.Y-mean(test.Y),2))\n",
    "print 'The R-sqaured over validation is',R2  "
   ]
  },
  {
   "cell_type": "markdown",
   "metadata": {},
   "source": [
    "### Problem 2 (20% credit)\n",
    "Perform Principle component decomposition for the regressors over the training set. Redo the regression over the training set, report the statistics."
   ]
  },
  {
   "cell_type": "markdown",
   "metadata": {},
   "source": [
    "###Solution 2"
   ]
  },
  {
   "cell_type": "code",
   "execution_count": 6,
   "metadata": {
    "collapsed": false
   },
   "outputs": [
    {
     "name": "stdout",
     "output_type": "stream",
     "text": [
      "The variation covered by first three principal components is 0.955002468549\n"
     ]
    },
    {
     "data": {
      "image/png": "[encoded data removed]",
      "text/plain": [
       "<matplotlib.figure.Figure at 0x182756d8>"
      ]
     },
     "metadata": {},
     "output_type": "display_data"
    }
   ],
   "source": [
    "Y = np.matrix(train.Y)\n",
    "X=np.matrix(train[['X1','X2','X3','X4','X5','X6']])\n",
    "m = mean(X,0)\n",
    "s = std(X,0)\n",
    "X1 = 1.0*np.array(X)\n",
    "for i in xrange(0,6):\n",
    "    X1[:,i]=(X1[:,i]-m[0,i])/s[0,i]\n",
    "\n",
    "U, s, Vt = np.linalg.svd(X1) #singular value decomposition\n",
    "V = Vt.T\n",
    "#sort singular values\n",
    "ind = np.argsort(s)[::-1] \n",
    "U = U[:, ind]\n",
    "s = s[ind]\n",
    "V = V[:, ind]\n",
    "S = np.diag(s)\n",
    "P=X1*np.matrix(V)\n",
    "\n",
    "sc=cumsum(s**2/sum(s**2))\n",
    "plt.bar(range(1,(len(sc)+1)),sc)\n",
    "print'The variation covered by first three principal components is', (sc[3])"
   ]
  },
  {
   "cell_type": "code",
   "execution_count": 7,
   "metadata": {
    "collapsed": false
   },
   "outputs": [
    {
     "name": "stdout",
     "output_type": "stream",
     "text": [
      "                            OLS Regression Results                            \n",
      "==============================================================================\n",
      "Dep. Variable:                      Y   R-squared:                       0.943\n",
      "Model:                            OLS   Adj. R-squared:                  0.858\n",
      "Method:                 Least Squares   F-statistic:                     11.08\n",
      "Date:                Fri, 20 Nov 2015   Prob (F-statistic):             0.0179\n",
      "Time:                        17:29:17   Log-Likelihood:                -33.387\n",
      "No. Observations:                  10   AIC:                             78.77\n",
      "Df Residuals:                       4   BIC:                             80.59\n",
      "Df Model:                           6                                         \n",
      "Covariance Type:            nonrobust                                         \n",
      "==============================================================================\n",
      "                 coef    std err          t      P>|t|      [95.0% Conf. Int.]\n",
      "------------------------------------------------------------------------------\n",
      "P1             9.9250      2.021      4.912      0.008         4.314    15.535\n",
      "P2             5.1025      2.814      1.813      0.144        -2.710    12.915\n",
      "P3             6.4877      3.423      1.895      0.131        -3.015    15.991\n",
      "P4           -26.2927      5.246     -5.012      0.007       -40.857   -11.728\n",
      "P5           -19.4148      6.716     -2.891      0.045       -38.060    -0.770\n",
      "P6            43.7649     30.869      1.418      0.229       -41.940   129.470\n",
      "==============================================================================\n",
      "Omnibus:                        1.696   Durbin-Watson:                   1.870\n",
      "Prob(Omnibus):                  0.428   Jarque-Bera (JB):                1.158\n",
      "Skew:                           0.649   Prob(JB):                        0.560\n",
      "Kurtosis:                       1.954   Cond. No.                         15.3\n",
      "==============================================================================\n",
      "\n",
      "Warnings:\n",
      "[1] Standard Errors assume that the covariance matrix of the errors is correctly specified.\n"
     ]
    }
   ],
   "source": [
    "pc=pd.DataFrame(P)\n",
    "pc.columns=['P1','P2','P3','P4','P5','P6']\n",
    "pc['Y']=Y.transpose()\n",
    "lm2 = smf.ols(formula='Y ~ P1+P2+P3+P4+P5+P6-1', data=pc).fit()\n",
    "print(lm2.summary())"
   ]
  },
  {
   "cell_type": "markdown",
   "metadata": {},
   "source": [
    "#### The R-sqaured with PCA returns similar value to the normal regression but we get better p-values for the regreessors which are now principal components."
   ]
  },
  {
   "cell_type": "markdown",
   "metadata": {},
   "source": [
    "### Problem 3 (20% credit)\n",
    "Remove the PCs having p-value higher than 5% from the further consideration and define the remaining PCs over the test set (using the transformation learned above over the training set). Redo the regression over the training set and apply the model to the validation set (please note - generally, this is not always the most appropriate way of feature selection)."
   ]
  },
  {
   "cell_type": "code",
   "execution_count": 8,
   "metadata": {
    "collapsed": false
   },
   "outputs": [
    {
     "name": "stdout",
     "output_type": "stream",
     "text": [
      "                            OLS Regression Results                            \n",
      "==============================================================================\n",
      "Dep. Variable:                      Y   R-squared:                       0.817\n",
      "Model:                            OLS   Adj. R-squared:                  0.739\n",
      "Method:                 Least Squares   F-statistic:                     10.43\n",
      "Date:                Fri, 20 Nov 2015   Prob (F-statistic):            0.00564\n",
      "Time:                        17:29:28   Log-Likelihood:                -39.238\n",
      "No. Observations:                  10   AIC:                             84.48\n",
      "Df Residuals:                       7   BIC:                             85.38\n",
      "Df Model:                           3                                         \n",
      "Covariance Type:            nonrobust                                         \n",
      "==============================================================================\n",
      "                 coef    std err          t      P>|t|      [95.0% Conf. Int.]\n",
      "------------------------------------------------------------------------------\n",
      "P1             9.9250      2.742      3.619      0.009         3.441    16.409\n",
      "P4           -26.2927      7.119     -3.694      0.008       -43.126    -9.460\n",
      "P5           -19.4148      9.113     -2.130      0.071       -40.964     2.134\n",
      "==============================================================================\n",
      "Omnibus:                        7.959   Durbin-Watson:                   1.491\n",
      "Prob(Omnibus):                  0.019   Jarque-Bera (JB):                3.101\n",
      "Skew:                           1.212   Prob(JB):                        0.212\n",
      "Kurtosis:                       4.252   Cond. No.                         3.32\n",
      "==============================================================================\n",
      "\n",
      "Warnings:\n",
      "[1] Standard Errors assume that the covariance matrix of the errors is correctly specified.\n"
     ]
    }
   ],
   "source": [
    "#Removing PC'S wth p-value over 5%\n",
    "#and redoing the regression over training set\n",
    "lm2 = smf.ols(formula='Y ~ P1+P4+P5-1', data=pc).fit()\n",
    "print(lm2.summary())"
   ]
  },
  {
   "cell_type": "code",
   "execution_count": 9,
   "metadata": {
    "collapsed": false
   },
   "outputs": [
    {
     "name": "stdout",
     "output_type": "stream",
     "text": [
      "                            OLS Regression Results                            \n",
      "==============================================================================\n",
      "Dep. Variable:                      Y   R-squared:                       0.876\n",
      "Model:                            OLS   Adj. R-squared:                  0.872\n",
      "Method:                 Least Squares   F-statistic:                     203.3\n",
      "Date:                Fri, 20 Nov 2015   Prob (F-statistic):           6.26e-39\n",
      "Time:                        17:29:36   Log-Likelihood:                -357.51\n",
      "No. Observations:                  89   AIC:                             721.0\n",
      "Df Residuals:                      86   BIC:                             728.5\n",
      "Df Model:                           3                                         \n",
      "Covariance Type:            nonrobust                                         \n",
      "==============================================================================\n",
      "                 coef    std err          t      P>|t|      [95.0% Conf. Int.]\n",
      "------------------------------------------------------------------------------\n",
      "P1             5.3844      0.886      6.078      0.000         3.623     7.146\n",
      "P4           -22.3379      1.462    -15.276      0.000       -25.245   -19.431\n",
      "P5           -15.7055      1.284    -12.235      0.000       -18.257   -13.154\n",
      "==============================================================================\n",
      "Omnibus:                        6.030   Durbin-Watson:                   1.722\n",
      "Prob(Omnibus):                  0.049   Jarque-Bera (JB):                5.732\n",
      "Skew:                           0.445   Prob(JB):                       0.0569\n",
      "Kurtosis:                       3.867   Cond. No.                         2.27\n",
      "==============================================================================\n",
      "\n",
      "Warnings:\n",
      "[1] Standard Errors assume that the covariance matrix of the errors is correctly specified.\n"
     ]
    }
   ],
   "source": [
    "X1=np.matrix(test[['X1','X2','X3','X4','X5','X6']])\n",
    "Y1=np.matrix(test['Y'])\n",
    "X2=1.0*np.array(X1)\n",
    "P1=X2*np.matrix(V)\n",
    "lmData=pd.DataFrame(P1)\n",
    "lmData.columns=[[ 'P1','P2','P3','P4','P5','P6']]\n",
    "lmData['Y']=Y1.transpose() \n",
    "lmP = smf.ols(formula='Y ~ P1+P4+P5-1',data=lmData).fit()\n",
    "print(lmP.summary())"
   ]
  },
  {
   "cell_type": "code",
   "execution_count": 10,
   "metadata": {
    "collapsed": false
   },
   "outputs": [
    {
     "data": {
      "text/plain": [
       "<matplotlib.collections.PathCollection at 0x1a07c8d0>"
      ]
     },
     "execution_count": 10,
     "metadata": {},
     "output_type": "execute_result"
    },
    {
     "data": {
      "image/png": "[encoded data removed]",
      "text/plain": [
       "<matplotlib.figure.Figure at 0x19cec358>"
      ]
     },
     "metadata": {},
     "output_type": "display_data"
    }
   ],
   "source": [
    "#loading the data for assignments 4-5\n",
    "data2=pd.read_csv( 'https://serv.cusp.nyu.edu/files/ADS-2015/MorningSection/extraHomework/HE2.csv' , index_col=0 )\n",
    "plt.scatter(data2.x,data2.y,s=20)"
   ]
  },
  {
   "cell_type": "code",
   "execution_count": 11,
   "metadata": {
    "collapsed": false
   },
   "outputs": [
    {
     "data": {
      "text/html": [
       "<div>\n",
       "<table border=\"1\" class=\"dataframe\">\n",
       "  <thead>\n",
       "    <tr style=\"text-align: right;\">\n",
       "      <th></th>\n",
       "      <th>x</th>\n",
       "      <th>y</th>\n",
       "      <th>c</th>\n",
       "    </tr>\n",
       "  </thead>\n",
       "  <tbody>\n",
       "    <tr>\n",
       "      <th>0</th>\n",
       "      <td>6.831341</td>\n",
       "      <td>14.152972</td>\n",
       "      <td>1</td>\n",
       "    </tr>\n",
       "    <tr>\n",
       "      <th>1</th>\n",
       "      <td>7.065457</td>\n",
       "      <td>14.196804</td>\n",
       "      <td>1</td>\n",
       "    </tr>\n",
       "    <tr>\n",
       "      <th>2</th>\n",
       "      <td>5.444036</td>\n",
       "      <td>14.269801</td>\n",
       "      <td>1</td>\n",
       "    </tr>\n",
       "    <tr>\n",
       "      <th>3</th>\n",
       "      <td>9.644370</td>\n",
       "      <td>16.024389</td>\n",
       "      <td>1</td>\n",
       "    </tr>\n",
       "    <tr>\n",
       "      <th>4</th>\n",
       "      <td>5.031005</td>\n",
       "      <td>12.467718</td>\n",
       "      <td>1</td>\n",
       "    </tr>\n",
       "  </tbody>\n",
       "</table>\n",
       "</div>"
      ],
      "text/plain": [
       "          x          y  c\n",
       "0  6.831341  14.152972  1\n",
       "1  7.065457  14.196804  1\n",
       "2  5.444036  14.269801  1\n",
       "3  9.644370  16.024389  1\n",
       "4  5.031005  12.467718  1"
      ]
     },
     "execution_count": 11,
     "metadata": {},
     "output_type": "execute_result"
    }
   ],
   "source": [
    "data2.head()"
   ]
  },
  {
   "cell_type": "code",
   "execution_count": 12,
   "metadata": {
    "collapsed": false
   },
   "outputs": [
    {
     "data": {
      "text/plain": [
       "<matplotlib.collections.PathCollection at 0x1a27a630>"
      ]
     },
     "execution_count": 12,
     "metadata": {},
     "output_type": "execute_result"
    },
    {
     "data": {
      "image/png": "[encoded data removed]",
      "text/plain": [
       "<matplotlib.figure.Figure at 0x19e4de80>"
      ]
     },
     "metadata": {},
     "output_type": "display_data"
    }
   ],
   "source": [
    "#visualize the \"true\" test classification for assignment 5\n",
    "plt.figure()\n",
    "plt.scatter(data2.x,data2.y,c=data2.c,s=30,lw=0)"
   ]
  },
  {
   "cell_type": "markdown",
   "metadata": {},
   "source": [
    "### Problem 4 (20% credit)\n",
    "For the dataset 2 (columns x1,x2), perform k-means clustering with $k=2..10$ and using silhuette measure select the optimal number of clusters. Visualize the corresponding clustering for that $k$."
   ]
  },
  {
   "cell_type": "code",
   "execution_count": 13,
   "metadata": {
    "collapsed": false
   },
   "outputs": [
    {
     "name": "stdout",
     "output_type": "stream",
     "text": [
      "2 clusters: 0.662827930553\n",
      "3 clusters: 0.688109843421\n",
      "4 clusters: 0.497816067245\n",
      "5 clusters: 0.52571262831\n",
      "6 clusters: 0.485873780505\n",
      "7 clusters: 0.400846696786\n",
      "8 clusters: 0.403141049853\n",
      "9 clusters: 0.380178213322\n",
      "10 clusters: 0.386872708593\n",
      "Best for 3 clusters: 0.688109843421\n"
     ]
    },
    {
     "data": {
      "text/plain": [
       "<matplotlib.collections.PathCollection at 0x1a506cc0>"
      ]
     },
     "execution_count": 13,
     "metadata": {},
     "output_type": "execute_result"
    },
    {
     "data": {
      "image/png": "[encoded data removed]",
      "text/plain": [
       "<matplotlib.figure.Figure at 0x1a039320>"
      ]
     },
     "metadata": {},
     "output_type": "display_data"
    },
    {
     "data": {
      "image/png": "[encoded data removed]",
      "text/plain": [
       "<matplotlib.figure.Figure at 0x1a478cf8>"
      ]
     },
     "metadata": {},
     "output_type": "display_data"
    }
   ],
   "source": [
    "s=[0]*9\n",
    "for k in range(0,9):\n",
    "    est=KMeans(n_clusters=k+2,n_init=25)\n",
    "    est.fit(data2)\n",
    "    s[k]=silhouette_score(data2, est.labels_)\n",
    "    print('{0} clusters: {1}'.format(k+2,s[k]))\n",
    "k=np.argmax(s)    \n",
    "est=KMeans(n_clusters=k+2,n_init=100)\n",
    "est.fit(data2)\n",
    "labels=est.labels_\n",
    "plt.figure()\n",
    "plt.bar(range(2,11),s)\n",
    "plt.xlabel('k')\n",
    "plt.ylabel('S')\n",
    "plt.title('Avg Silhouette vs k')\n",
    "print('Best for {0} clusters: {1}'.format(k+2,silhouette_score(data2, labels)))\n",
    "plt.figure()\n",
    "plt.scatter (data2.x,data2.y,s=30,c=labels.astype(np.float),lw=0)"
   ]
  },
  {
   "cell_type": "markdown",
   "metadata": {},
   "source": [
    "### Problem 5 (20% credit)\n",
    "For the dataset 2 perform logistic regression of c vs x and y and visulize the resulting classification. Compute confusion matrix and output precision, recall and accurary of the classification."
   ]
  },
  {
   "cell_type": "code",
   "execution_count": 14,
   "metadata": {
    "collapsed": false
   },
   "outputs": [
    {
     "name": "stdout",
     "output_type": "stream",
     "text": [
      "Optimization terminated successfully.\n",
      "         Current function value: 0.168649\n",
      "         Iterations 9\n",
      "                           Logit Regression Results                           \n",
      "==============================================================================\n",
      "Dep. Variable:                      c   No. Observations:                  100\n",
      "Model:                          Logit   Df Residuals:                       97\n",
      "Method:                           MLE   Df Model:                            2\n",
      "Date:                Fri, 20 Nov 2015   Pseudo R-squ.:                  0.7567\n",
      "Time:                        17:29:44   Log-Likelihood:                -16.865\n",
      "converged:                       True   LL-Null:                       -69.315\n",
      "                                        LLR p-value:                 1.665e-23\n",
      "==============================================================================\n",
      "                 coef    std err          z      P>|z|      [95.0% Conf. Int.]\n",
      "------------------------------------------------------------------------------\n",
      "Intercept    -10.5947      2.598     -4.079      0.000       -15.686    -5.503\n",
      "x              0.3959      0.267      1.481      0.139        -0.128     0.920\n",
      "y              0.7271      0.199      3.645      0.000         0.336     1.118\n",
      "==============================================================================\n"
     ]
    }
   ],
   "source": [
    "logit = smf.logit('c ~ x+y', data = data2).fit()\n",
    "print(logit.summary())"
   ]
  },
  {
   "cell_type": "code",
   "execution_count": 15,
   "metadata": {
    "collapsed": false
   },
   "outputs": [
    {
     "name": "stdout",
     "output_type": "stream",
     "text": [
      "[[50  4]\n",
      " [ 0 46]]\n",
      "Precision=100.0, Accuracy=96.0, Recall=92.5925925926\n"
     ]
    }
   ],
   "source": [
    "le=logit.predict(data2) > 0.5\n",
    "\n",
    "#compute TP,FP,FN,TN for the above classification\n",
    "\n",
    "TP=sum((data2.c==1)&(le==1))\n",
    "FP=sum((data2.c==1)&(le==0))\n",
    "FN=sum((data2.c==0)&(le==1))\n",
    "TN=sum((data2.c==0)&(le==0))\n",
    "\n",
    "ConfMat = np.matrix([[TP, FN],[FP, TN]])\n",
    "print ConfMat\n",
    "\n",
    "#compute precision, accuracy and recall\n",
    "\n",
    "ACC=100.0*(TP+TN)/(TP+TN+FP+FN)\n",
    "Recall=100.0*TP/(TP+FN)\n",
    "Prec=100.0*TP/(TP+FP)\n",
    "print('Precision={0}, Accuracy={1}, Recall={2}'.format(Prec,ACC,Recall))"
   ]
  },
  {
   "cell_type": "code",
   "execution_count": 16,
   "metadata": {
    "collapsed": false
   },
   "outputs": [
    {
     "data": {
      "text/plain": [
       "<matplotlib.collections.PathCollection at 0x1a9035f8>"
      ]
     },
     "execution_count": 16,
     "metadata": {},
     "output_type": "execute_result"
    },
    {
     "data": {
      "image/png": "[encoded data removed]",
      "text/plain": [
       "<matplotlib.figure.Figure at 0x1a362d68>"
      ]
     },
     "metadata": {},
     "output_type": "display_data"
    }
   ],
   "source": [
    "plt.figure()\n",
    "plt.scatter(data2.x, data2.y,c=le,s=30,lw=0)"
   ]
  }
 ],
 "metadata": {
  "kernelspec": {
   "display_name": "Python 2",
   "language": "python",
   "name": "python2"
  },
  "language_info": {
   "codemirror_mode": {
    "name": "ipython",
    "version": 2
   },
   "file_extension": ".py",
   "mimetype": "text/x-python",
   "name": "python",
   "nbconvert_exporter": "python",
   "pygments_lexer": "ipython2",
   "version": "2.7.10"
  }
 },
 "nbformat": 4,
 "nbformat_minor": 0
}
